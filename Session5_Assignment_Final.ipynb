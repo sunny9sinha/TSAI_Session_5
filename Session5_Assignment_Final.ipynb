{
  "nbformat": 4,
  "nbformat_minor": 0,
  "metadata": {
    "colab": {
      "name": "Session5_Assignment_Final.ipynb",
      "provenance": [],
      "collapsed_sections": [],
      "authorship_tag": "ABX9TyM8Q+EPTWTQvSjIfksOXCQp",
      "include_colab_link": true
    },
    "kernelspec": {
      "name": "python3",
      "display_name": "Python 3"
    },
    "language_info": {
      "name": "python"
    },
    "accelerator": "GPU"
  },
  "cells": [
    {
      "cell_type": "markdown",
      "metadata": {
        "id": "view-in-github",
        "colab_type": "text"
      },
      "source": [
        "<a href=\"https://colab.research.google.com/github/sunny9sinha/TSAI_Session_5/blob/main/Session5_Assignment_Final.ipynb\" target=\"_parent\"><img src=\"https://colab.research.google.com/assets/colab-badge.svg\" alt=\"Open In Colab\"/></a>"
      ]
    },
    {
      "cell_type": "code",
      "metadata": {
        "colab": {
          "base_uri": "https://localhost:8080/"
        },
        "id": "rfLoK_Dse1w7",
        "outputId": "e1f96af6-0b66-4858-d7fb-2d1de993a088"
      },
      "source": [
        "import sys\n",
        "import pandas as pd\n",
        "import numpy as np\n",
        "import csv\n",
        "\n",
        "!pip install googletrans==3.1.0a0"
      ],
      "execution_count": 1,
      "outputs": [
        {
          "output_type": "stream",
          "text": [
            "Collecting googletrans==3.1.0a0\n",
            "  Downloading https://files.pythonhosted.org/packages/19/3d/4e3a1609bf52f2f7b00436cc751eb977e27040665dde2bd57e7152989672/googletrans-3.1.0a0.tar.gz\n",
            "Collecting httpx==0.13.3\n",
            "\u001b[?25l  Downloading https://files.pythonhosted.org/packages/54/b4/698b284c6aed4d7c2b4fe3ba5df1fcf6093612423797e76fbb24890dd22f/httpx-0.13.3-py3-none-any.whl (55kB)\n",
            "\u001b[K     |████████████████████████████████| 61kB 10.3MB/s \n",
            "\u001b[?25hRequirement already satisfied: certifi in /usr/local/lib/python3.7/dist-packages (from httpx==0.13.3->googletrans==3.1.0a0) (2020.12.5)\n",
            "Collecting hstspreload\n",
            "\u001b[?25l  Downloading https://files.pythonhosted.org/packages/dd/50/606213e12fb49c5eb667df0936223dcaf461f94e215ea60244b2b1e9b039/hstspreload-2020.12.22-py3-none-any.whl (994kB)\n",
            "\u001b[K     |████████████████████████████████| 1.0MB 41.7MB/s \n",
            "\u001b[?25hRequirement already satisfied: idna==2.* in /usr/local/lib/python3.7/dist-packages (from httpx==0.13.3->googletrans==3.1.0a0) (2.10)\n",
            "Collecting httpcore==0.9.*\n",
            "\u001b[?25l  Downloading https://files.pythonhosted.org/packages/dd/d5/e4ff9318693ac6101a2095e580908b591838c6f33df8d3ee8dd953ba96a8/httpcore-0.9.1-py3-none-any.whl (42kB)\n",
            "\u001b[K     |████████████████████████████████| 51kB 9.1MB/s \n",
            "\u001b[?25hCollecting rfc3986<2,>=1.3\n",
            "  Downloading https://files.pythonhosted.org/packages/c4/e5/63ca2c4edf4e00657584608bee1001302bbf8c5f569340b78304f2f446cb/rfc3986-1.5.0-py2.py3-none-any.whl\n",
            "Requirement already satisfied: chardet==3.* in /usr/local/lib/python3.7/dist-packages (from httpx==0.13.3->googletrans==3.1.0a0) (3.0.4)\n",
            "Collecting sniffio\n",
            "  Downloading https://files.pythonhosted.org/packages/52/b0/7b2e028b63d092804b6794595871f936aafa5e9322dcaaad50ebf67445b3/sniffio-1.2.0-py3-none-any.whl\n",
            "Collecting h2==3.*\n",
            "\u001b[?25l  Downloading https://files.pythonhosted.org/packages/25/de/da019bcc539eeab02f6d45836f23858ac467f584bfec7a526ef200242afe/h2-3.2.0-py2.py3-none-any.whl (65kB)\n",
            "\u001b[K     |████████████████████████████████| 71kB 11.3MB/s \n",
            "\u001b[?25hCollecting h11<0.10,>=0.8\n",
            "\u001b[?25l  Downloading https://files.pythonhosted.org/packages/5a/fd/3dad730b0f95e78aeeb742f96fa7bbecbdd56a58e405d3da440d5bfb90c6/h11-0.9.0-py2.py3-none-any.whl (53kB)\n",
            "\u001b[K     |████████████████████████████████| 61kB 11.0MB/s \n",
            "\u001b[?25hCollecting hpack<4,>=3.0\n",
            "  Downloading https://files.pythonhosted.org/packages/8a/cc/e53517f4a1e13f74776ca93271caef378dadec14d71c61c949d759d3db69/hpack-3.0.0-py2.py3-none-any.whl\n",
            "Collecting hyperframe<6,>=5.2.0\n",
            "  Downloading https://files.pythonhosted.org/packages/19/0c/bf88182bcb5dce3094e2f3e4fe20db28a9928cb7bd5b08024030e4b140db/hyperframe-5.2.0-py2.py3-none-any.whl\n",
            "Building wheels for collected packages: googletrans\n",
            "  Building wheel for googletrans (setup.py) ... \u001b[?25l\u001b[?25hdone\n",
            "  Created wheel for googletrans: filename=googletrans-3.1.0a0-cp37-none-any.whl size=16368 sha256=b9439bd61741ab72b94168adfb9bd95d242c40899ee2648b86c3e01febc6f7f7\n",
            "  Stored in directory: /root/.cache/pip/wheels/27/7a/a0/aff3babbb775549ce6813cb8fa7ff3c0848c4dc62c20f8fdac\n",
            "Successfully built googletrans\n",
            "Installing collected packages: hstspreload, sniffio, hpack, hyperframe, h2, h11, httpcore, rfc3986, httpx, googletrans\n",
            "Successfully installed googletrans-3.1.0a0 h11-0.9.0 h2-3.2.0 hpack-3.0.0 hstspreload-2020.12.22 httpcore-0.9.1 httpx-0.13.3 hyperframe-5.2.0 rfc3986-1.5.0 sniffio-1.2.0\n"
          ],
          "name": "stdout"
        }
      ]
    },
    {
      "cell_type": "code",
      "metadata": {
        "id": "wpNL_AARJQHG"
      },
      "source": [
        "import random\n",
        "import googletrans\n",
        "from googletrans import Translator\n",
        "\n",
        "def translate(sentence_translated):\n",
        "  # translator = Translator(service_urls=['translate.googleapis.com'])\n",
        "  translator = Translator()\n",
        "  # sentence = ['']\n",
        "\n",
        "  # available_langs = list(googletrans.LANGUAGES.keys()) \n",
        "  # trans_lang = random.choice(available_langs) \n",
        "  # print(f\"Translating to {googletrans.LANGUAGES[trans_lang]}\")\n",
        "\n",
        "  sentence_translated = pd.DataFrame(sentence_translated.iloc[0:400,:]).reset_index().drop(columns=['index'])\n",
        "\n",
        "  trans_array = np.array(sentence_translated['sentence'])\n",
        "  # int(len(trans_array)/100)\n",
        "\n",
        "  for i in range(400):\n",
        "    translations = translator.translate(trans_array[i],src='en', dest='czech') \n",
        "    #print(translations)\n",
        "    t_text = translations.text\n",
        "    print('czech: ',t_text)\n",
        "\n",
        "    translations_en_random = translator.translate(t_text, src='czech', dest='en') \n",
        "    en_text = translations_en_random.text\n",
        "    print('Eng: ',en_text)\n",
        "    trans_array[i] = en_text\n",
        "\n",
        "\n",
        "  sentence_translated['sentence'] = trans_array\n",
        "  return sentence_translated\n",
        "\n"
      ],
      "execution_count": 2,
      "outputs": []
    },
    {
      "cell_type": "code",
      "metadata": {
        "id": "opN_XD18JIOz"
      },
      "source": [
        "def random_deletion(words, p=0.5): \n",
        "    if len(words) == 1: # return if single word\n",
        "        return words\n",
        "    remaining = list(filter(lambda x: random.uniform(0,1) > p,words)) \n",
        "    if len(remaining) == 0: # if not left, sample a random word\n",
        "        return [random.choice(words)] \n",
        "    else:\n",
        "        return remaining"
      ],
      "execution_count": 3,
      "outputs": []
    },
    {
      "cell_type": "code",
      "metadata": {
        "id": "UYY6IM4hJHSc"
      },
      "source": [
        "def random_swap(sentence, n=5): \n",
        "    length = range(len(sentence)) \n",
        "    for _ in range(n):\n",
        "        idx1, idx2 = random.sample(length, 2)\n",
        "        sentence[idx1], sentence[idx2] = sentence[idx2], sentence[idx1] \n",
        "    return sentence"
      ],
      "execution_count": 4,
      "outputs": []
    },
    {
      "cell_type": "code",
      "metadata": {
        "id": "Z4ZjO9vPJ49z"
      },
      "source": [
        "import torch.nn as nn\n",
        "import torch.nn.functional as F\n",
        "\n",
        "class classifier(nn.Module):\n",
        "    \n",
        "    # Define all the layers used in model\n",
        "    def __init__(self, vocab_size, embedding_dim, hidden_dim, output_dim, n_layers, dropout):\n",
        "        \n",
        "        super().__init__()          \n",
        "        \n",
        "        # Embedding layer\n",
        "        self.embedding = nn.Embedding(vocab_size, embedding_dim)\n",
        "        \n",
        "        # LSTM layer\n",
        "        self.encoder = nn.LSTM(embedding_dim, \n",
        "                           hidden_dim, \n",
        "                           num_layers=n_layers, \n",
        "                           dropout=dropout,\n",
        "                           batch_first=True)\n",
        "        # try using nn.GRU or nn.RNN here and compare their performances\n",
        "        # try bidirectional and compare their performances\n",
        "        \n",
        "        # Dense layer\n",
        "        self.fc = nn.Linear(hidden_dim, output_dim)\n",
        "        \n",
        "    def forward(self, text, text_lengths):\n",
        "        \n",
        "        # text = [batch size, sent_length]\n",
        "        embedded = self.embedding(text)\n",
        "        # embedded = [batch size, sent_len, emb dim]\n",
        "      \n",
        "        # packed sequence\n",
        "        packed_embedded = nn.utils.rnn.pack_padded_sequence(embedded, text_lengths.cpu(), batch_first=True)\n",
        "        \n",
        "        packed_output, (hidden, cell) = self.encoder(packed_embedded)\n",
        "        #hidden = [batch size, num layers * num directions,hid dim]\n",
        "        #cell = [batch size, num layers * num directions,hid dim]\n",
        "    \n",
        "        # Hidden = [batch size, hid dim * num directions]\n",
        "        dense_outputs = self.fc(hidden)   \n",
        "        \n",
        "        # Final activation function softmax\n",
        "        output = F.softmax(dense_outputs[0], dim=1)\n",
        "            \n",
        "        return output"
      ],
      "execution_count": 5,
      "outputs": []
    },
    {
      "cell_type": "code",
      "metadata": {
        "colab": {
          "base_uri": "https://localhost:8080/",
          "height": 204
        },
        "id": "6bi-LPmhfXBi",
        "outputId": "2b39e347-f208-4db2-d8f8-7059ba4c507d"
      },
      "source": [
        "sentences = pd.read_csv('/content/datasetSentences.txt',sep='\\t')\n",
        "sentences.head()"
      ],
      "execution_count": 6,
      "outputs": [
        {
          "output_type": "execute_result",
          "data": {
            "text/html": [
              "<div>\n",
              "<style scoped>\n",
              "    .dataframe tbody tr th:only-of-type {\n",
              "        vertical-align: middle;\n",
              "    }\n",
              "\n",
              "    .dataframe tbody tr th {\n",
              "        vertical-align: top;\n",
              "    }\n",
              "\n",
              "    .dataframe thead th {\n",
              "        text-align: right;\n",
              "    }\n",
              "</style>\n",
              "<table border=\"1\" class=\"dataframe\">\n",
              "  <thead>\n",
              "    <tr style=\"text-align: right;\">\n",
              "      <th></th>\n",
              "      <th>sentence_index</th>\n",
              "      <th>sentence</th>\n",
              "    </tr>\n",
              "  </thead>\n",
              "  <tbody>\n",
              "    <tr>\n",
              "      <th>0</th>\n",
              "      <td>1</td>\n",
              "      <td>The Rock is destined to be the 21st Century 's...</td>\n",
              "    </tr>\n",
              "    <tr>\n",
              "      <th>1</th>\n",
              "      <td>2</td>\n",
              "      <td>The gorgeously elaborate continuation of `` Th...</td>\n",
              "    </tr>\n",
              "    <tr>\n",
              "      <th>2</th>\n",
              "      <td>3</td>\n",
              "      <td>Effective but too-tepid biopic</td>\n",
              "    </tr>\n",
              "    <tr>\n",
              "      <th>3</th>\n",
              "      <td>4</td>\n",
              "      <td>If you sometimes like to go to the movies to h...</td>\n",
              "    </tr>\n",
              "    <tr>\n",
              "      <th>4</th>\n",
              "      <td>5</td>\n",
              "      <td>Emerges as something rare , an issue movie tha...</td>\n",
              "    </tr>\n",
              "  </tbody>\n",
              "</table>\n",
              "</div>"
            ],
            "text/plain": [
              "   sentence_index                                           sentence\n",
              "0               1  The Rock is destined to be the 21st Century 's...\n",
              "1               2  The gorgeously elaborate continuation of `` Th...\n",
              "2               3                     Effective but too-tepid biopic\n",
              "3               4  If you sometimes like to go to the movies to h...\n",
              "4               5  Emerges as something rare , an issue movie tha..."
            ]
          },
          "metadata": {
            "tags": []
          },
          "execution_count": 6
        }
      ]
    },
    {
      "cell_type": "code",
      "metadata": {
        "colab": {
          "base_uri": "https://localhost:8080/",
          "height": 204
        },
        "id": "1j03vV2rf8Nt",
        "outputId": "949be970-144e-45ec-d232-836c175a50c0"
      },
      "source": [
        "dictonary = pd.read_csv('/content/dictionary.txt',sep='|', names=('Phrase','Pharase_Id'))\n",
        "dictonary.head()"
      ],
      "execution_count": 7,
      "outputs": [
        {
          "output_type": "execute_result",
          "data": {
            "text/html": [
              "<div>\n",
              "<style scoped>\n",
              "    .dataframe tbody tr th:only-of-type {\n",
              "        vertical-align: middle;\n",
              "    }\n",
              "\n",
              "    .dataframe tbody tr th {\n",
              "        vertical-align: top;\n",
              "    }\n",
              "\n",
              "    .dataframe thead th {\n",
              "        text-align: right;\n",
              "    }\n",
              "</style>\n",
              "<table border=\"1\" class=\"dataframe\">\n",
              "  <thead>\n",
              "    <tr style=\"text-align: right;\">\n",
              "      <th></th>\n",
              "      <th>Phrase</th>\n",
              "      <th>Pharase_Id</th>\n",
              "    </tr>\n",
              "  </thead>\n",
              "  <tbody>\n",
              "    <tr>\n",
              "      <th>0</th>\n",
              "      <td>!</td>\n",
              "      <td>0</td>\n",
              "    </tr>\n",
              "    <tr>\n",
              "      <th>1</th>\n",
              "      <td>! '</td>\n",
              "      <td>22935</td>\n",
              "    </tr>\n",
              "    <tr>\n",
              "      <th>2</th>\n",
              "      <td>! ''</td>\n",
              "      <td>18235</td>\n",
              "    </tr>\n",
              "    <tr>\n",
              "      <th>3</th>\n",
              "      <td>! Alas</td>\n",
              "      <td>179257</td>\n",
              "    </tr>\n",
              "    <tr>\n",
              "      <th>4</th>\n",
              "      <td>! Brilliant</td>\n",
              "      <td>22936</td>\n",
              "    </tr>\n",
              "  </tbody>\n",
              "</table>\n",
              "</div>"
            ],
            "text/plain": [
              "        Phrase  Pharase_Id\n",
              "0            !           0\n",
              "1          ! '       22935\n",
              "2         ! ''       18235\n",
              "3       ! Alas      179257\n",
              "4  ! Brilliant       22936"
            ]
          },
          "metadata": {
            "tags": []
          },
          "execution_count": 7
        }
      ]
    },
    {
      "cell_type": "code",
      "metadata": {
        "colab": {
          "base_uri": "https://localhost:8080/",
          "height": 204
        },
        "id": "_9TQ5QYWgfEf",
        "outputId": "af4c8cd5-a113-411c-a014-ca98bf07a34a"
      },
      "source": [
        "dataSplit = pd.read_csv('/content/datasetSplit.txt', sep=',')\n",
        "dataSplit.head()"
      ],
      "execution_count": 8,
      "outputs": [
        {
          "output_type": "execute_result",
          "data": {
            "text/html": [
              "<div>\n",
              "<style scoped>\n",
              "    .dataframe tbody tr th:only-of-type {\n",
              "        vertical-align: middle;\n",
              "    }\n",
              "\n",
              "    .dataframe tbody tr th {\n",
              "        vertical-align: top;\n",
              "    }\n",
              "\n",
              "    .dataframe thead th {\n",
              "        text-align: right;\n",
              "    }\n",
              "</style>\n",
              "<table border=\"1\" class=\"dataframe\">\n",
              "  <thead>\n",
              "    <tr style=\"text-align: right;\">\n",
              "      <th></th>\n",
              "      <th>sentence_index</th>\n",
              "      <th>splitset_label</th>\n",
              "    </tr>\n",
              "  </thead>\n",
              "  <tbody>\n",
              "    <tr>\n",
              "      <th>0</th>\n",
              "      <td>1</td>\n",
              "      <td>1</td>\n",
              "    </tr>\n",
              "    <tr>\n",
              "      <th>1</th>\n",
              "      <td>2</td>\n",
              "      <td>1</td>\n",
              "    </tr>\n",
              "    <tr>\n",
              "      <th>2</th>\n",
              "      <td>3</td>\n",
              "      <td>2</td>\n",
              "    </tr>\n",
              "    <tr>\n",
              "      <th>3</th>\n",
              "      <td>4</td>\n",
              "      <td>2</td>\n",
              "    </tr>\n",
              "    <tr>\n",
              "      <th>4</th>\n",
              "      <td>5</td>\n",
              "      <td>2</td>\n",
              "    </tr>\n",
              "  </tbody>\n",
              "</table>\n",
              "</div>"
            ],
            "text/plain": [
              "   sentence_index  splitset_label\n",
              "0               1               1\n",
              "1               2               1\n",
              "2               3               2\n",
              "3               4               2\n",
              "4               5               2"
            ]
          },
          "metadata": {
            "tags": []
          },
          "execution_count": 8
        }
      ]
    },
    {
      "cell_type": "code",
      "metadata": {
        "colab": {
          "base_uri": "https://localhost:8080/",
          "height": 204
        },
        "id": "PBc9KehEg2bF",
        "outputId": "6aaf82f7-b094-4c6f-91d5-f2d08b2dccf7"
      },
      "source": [
        "sentiment = pd.read_csv('/content/sentiment_labels.txt',sep='|')\n",
        "sentiment.head()"
      ],
      "execution_count": 9,
      "outputs": [
        {
          "output_type": "execute_result",
          "data": {
            "text/html": [
              "<div>\n",
              "<style scoped>\n",
              "    .dataframe tbody tr th:only-of-type {\n",
              "        vertical-align: middle;\n",
              "    }\n",
              "\n",
              "    .dataframe tbody tr th {\n",
              "        vertical-align: top;\n",
              "    }\n",
              "\n",
              "    .dataframe thead th {\n",
              "        text-align: right;\n",
              "    }\n",
              "</style>\n",
              "<table border=\"1\" class=\"dataframe\">\n",
              "  <thead>\n",
              "    <tr style=\"text-align: right;\">\n",
              "      <th></th>\n",
              "      <th>phrase ids</th>\n",
              "      <th>sentiment values</th>\n",
              "    </tr>\n",
              "  </thead>\n",
              "  <tbody>\n",
              "    <tr>\n",
              "      <th>0</th>\n",
              "      <td>0</td>\n",
              "      <td>0.50000</td>\n",
              "    </tr>\n",
              "    <tr>\n",
              "      <th>1</th>\n",
              "      <td>1</td>\n",
              "      <td>0.50000</td>\n",
              "    </tr>\n",
              "    <tr>\n",
              "      <th>2</th>\n",
              "      <td>2</td>\n",
              "      <td>0.44444</td>\n",
              "    </tr>\n",
              "    <tr>\n",
              "      <th>3</th>\n",
              "      <td>3</td>\n",
              "      <td>0.50000</td>\n",
              "    </tr>\n",
              "    <tr>\n",
              "      <th>4</th>\n",
              "      <td>4</td>\n",
              "      <td>0.42708</td>\n",
              "    </tr>\n",
              "  </tbody>\n",
              "</table>\n",
              "</div>"
            ],
            "text/plain": [
              "   phrase ids  sentiment values\n",
              "0           0           0.50000\n",
              "1           1           0.50000\n",
              "2           2           0.44444\n",
              "3           3           0.50000\n",
              "4           4           0.42708"
            ]
          },
          "metadata": {
            "tags": []
          },
          "execution_count": 9
        }
      ]
    },
    {
      "cell_type": "code",
      "metadata": {
        "id": "ILypkYOuhXzf"
      },
      "source": [
        "sentiment_class = []\n",
        "for i in sentiment['sentiment values'] :\n",
        "  if i >=0 and i<0.2:\n",
        "    sentiment_class.append(1)\n",
        "  elif i>=0.2 and i<0.4:\n",
        "    sentiment_class.append(2)\n",
        "  elif i>=0.4 and i<0.6:\n",
        "    sentiment_class.append(3)\n",
        "  elif i>=0.6 and i<0.8:\n",
        "    sentiment_class.append(4)\n",
        "  else:\n",
        "    sentiment_class.append(5)\n",
        "\n",
        "sentiment['sentiment values'] = sentiment_class\n"
      ],
      "execution_count": 10,
      "outputs": []
    },
    {
      "cell_type": "code",
      "metadata": {
        "colab": {
          "base_uri": "https://localhost:8080/",
          "height": 297
        },
        "id": "zn4_U2oyiM7P",
        "outputId": "83d60dcd-ebba-425a-ec77-259c9816be2c"
      },
      "source": [
        "sentiment.describe()"
      ],
      "execution_count": 11,
      "outputs": [
        {
          "output_type": "execute_result",
          "data": {
            "text/html": [
              "<div>\n",
              "<style scoped>\n",
              "    .dataframe tbody tr th:only-of-type {\n",
              "        vertical-align: middle;\n",
              "    }\n",
              "\n",
              "    .dataframe tbody tr th {\n",
              "        vertical-align: top;\n",
              "    }\n",
              "\n",
              "    .dataframe thead th {\n",
              "        text-align: right;\n",
              "    }\n",
              "</style>\n",
              "<table border=\"1\" class=\"dataframe\">\n",
              "  <thead>\n",
              "    <tr style=\"text-align: right;\">\n",
              "      <th></th>\n",
              "      <th>phrase ids</th>\n",
              "      <th>sentiment values</th>\n",
              "    </tr>\n",
              "  </thead>\n",
              "  <tbody>\n",
              "    <tr>\n",
              "      <th>count</th>\n",
              "      <td>239232.000000</td>\n",
              "      <td>239232.000000</td>\n",
              "    </tr>\n",
              "    <tr>\n",
              "      <th>mean</th>\n",
              "      <td>119615.500000</td>\n",
              "      <td>3.062391</td>\n",
              "    </tr>\n",
              "    <tr>\n",
              "      <th>std</th>\n",
              "      <td>69060.474137</td>\n",
              "      <td>0.911298</td>\n",
              "    </tr>\n",
              "    <tr>\n",
              "      <th>min</th>\n",
              "      <td>0.000000</td>\n",
              "      <td>1.000000</td>\n",
              "    </tr>\n",
              "    <tr>\n",
              "      <th>25%</th>\n",
              "      <td>59807.750000</td>\n",
              "      <td>3.000000</td>\n",
              "    </tr>\n",
              "    <tr>\n",
              "      <th>50%</th>\n",
              "      <td>119615.500000</td>\n",
              "      <td>3.000000</td>\n",
              "    </tr>\n",
              "    <tr>\n",
              "      <th>75%</th>\n",
              "      <td>179423.250000</td>\n",
              "      <td>4.000000</td>\n",
              "    </tr>\n",
              "    <tr>\n",
              "      <th>max</th>\n",
              "      <td>239231.000000</td>\n",
              "      <td>5.000000</td>\n",
              "    </tr>\n",
              "  </tbody>\n",
              "</table>\n",
              "</div>"
            ],
            "text/plain": [
              "          phrase ids  sentiment values\n",
              "count  239232.000000     239232.000000\n",
              "mean   119615.500000          3.062391\n",
              "std     69060.474137          0.911298\n",
              "min         0.000000          1.000000\n",
              "25%     59807.750000          3.000000\n",
              "50%    119615.500000          3.000000\n",
              "75%    179423.250000          4.000000\n",
              "max    239231.000000          5.000000"
            ]
          },
          "metadata": {
            "tags": []
          },
          "execution_count": 11
        }
      ]
    },
    {
      "cell_type": "code",
      "metadata": {
        "colab": {
          "base_uri": "https://localhost:8080/"
        },
        "id": "eOYuvoGti40P",
        "outputId": "4cc12ed4-5e95-4c6f-ce9c-d7527a617a94"
      },
      "source": [
        "## This idea of sqlite and join is taken from github ref:\n",
        "## https://gist.github.com/soaxelbrooke/226480b00a86dad2e6f8bbb2b28c07a2\n",
        "import sqlite3\n",
        "quantize = '--quantize' in sys.argv\n",
        "conn = sqlite3.connect(':memory:')\n",
        "conn.execute('CREATE TABLE sentences (id LONG PRIMARY KEY, sentence TEXT)')\n",
        "conn.execute('CREATE TABLE dictionary (phrase TEXT,id LONG PRIMARY KEY)')\n",
        "conn.execute('CREATE TABLE sentiments (phrase_id LONG PRIMARY KEY, sentiment {})'.format('INT' if quantize else 'FLOAT'))\n",
        "conn.execute('CREATE TABLE splits (sentence_id LONG PRIMARY KEY, partition INT)')"
      ],
      "execution_count": 12,
      "outputs": [
        {
          "output_type": "execute_result",
          "data": {
            "text/plain": [
              "<sqlite3.Cursor at 0x7f14e4390e30>"
            ]
          },
          "metadata": {
            "tags": []
          },
          "execution_count": 12
        }
      ]
    },
    {
      "cell_type": "code",
      "metadata": {
        "colab": {
          "base_uri": "https://localhost:8080/"
        },
        "id": "bZXu1uADz0mt",
        "outputId": "9f09597e-e249-402e-c4af-302c44f8817a"
      },
      "source": [
        "conn.execute('CREATE INDEX sentences_sentence_idx ON sentences (sentence);')\n",
        "conn.execute('CREATE INDEX dictionary_phrase_idx ON dictionary (phrase);')"
      ],
      "execution_count": 13,
      "outputs": [
        {
          "output_type": "execute_result",
          "data": {
            "text/plain": [
              "<sqlite3.Cursor at 0x7f14e43390a0>"
            ]
          },
          "metadata": {
            "tags": []
          },
          "execution_count": 13
        }
      ]
    },
    {
      "cell_type": "code",
      "metadata": {
        "colab": {
          "base_uri": "https://localhost:8080/"
        },
        "id": "OCAf89pa1CgX",
        "outputId": "33ed848e-4df8-4265-865e-b12d40a558aa"
      },
      "source": [
        "sentences.items()"
      ],
      "execution_count": 14,
      "outputs": [
        {
          "output_type": "execute_result",
          "data": {
            "text/plain": [
              "<generator object DataFrame.items at 0x7f14e43b64d0>"
            ]
          },
          "metadata": {
            "tags": []
          },
          "execution_count": 14
        }
      ]
    },
    {
      "cell_type": "code",
      "metadata": {
        "id": "J8RYhX__1pbp"
      },
      "source": [
        "# sentences.values.tolist()"
      ],
      "execution_count": 15,
      "outputs": []
    },
    {
      "cell_type": "code",
      "metadata": {
        "colab": {
          "base_uri": "https://localhost:8080/"
        },
        "id": "5p9nDa6Dz51w",
        "outputId": "f998516b-ebe4-4720-c8a5-5d5f2cc68768"
      },
      "source": [
        "conn.executemany('INSERT INTO sentences VALUES (?, ?)', sentences.values.tolist())\n",
        "conn.executemany('INSERT INTO dictionary VALUES (?, ?)', dictonary.values.tolist())\n",
        "conn.executemany('INSERT INTO sentiments VALUES (?, ?)', sentiment.values.tolist())\n",
        "conn.executemany('INSERT INTO splits VALUES (?, ?)', dataSplit.values.tolist())"
      ],
      "execution_count": 16,
      "outputs": [
        {
          "output_type": "execute_result",
          "data": {
            "text/plain": [
              "<sqlite3.Cursor at 0x7f14e5cfe1f0>"
            ]
          },
          "metadata": {
            "tags": []
          },
          "execution_count": 16
        }
      ]
    },
    {
      "cell_type": "code",
      "metadata": {
        "colab": {
          "base_uri": "https://localhost:8080/"
        },
        "id": "Y7eIRKVB2QRr",
        "outputId": "86f4d62c-79af-4d34-a45d-6dee288fea4a"
      },
      "source": [
        "conn.commit()\n",
        "crs = conn.cursor()\n",
        "\n",
        "crs.execute('''\n",
        "        SELECT\n",
        "            partition,\n",
        "            sentence,\n",
        "            sentiment\n",
        "        FROM sentences \n",
        "            JOIN dictionary ON sentence = phrase\n",
        "            JOIN sentiments ON dictionary.id = phrase_id\n",
        "            JOIN splits ON sentences.id = sentence_id\n",
        "        ''')"
      ],
      "execution_count": 17,
      "outputs": [
        {
          "output_type": "execute_result",
          "data": {
            "text/plain": [
              "<sqlite3.Cursor at 0x7f14e2593180>"
            ]
          },
          "metadata": {
            "tags": []
          },
          "execution_count": 17
        }
      ]
    },
    {
      "cell_type": "code",
      "metadata": {
        "id": "Wcbq1FAi2XZX"
      },
      "source": [
        "dataset = crs.fetchall()"
      ],
      "execution_count": 18,
      "outputs": []
    },
    {
      "cell_type": "code",
      "metadata": {
        "id": "89pl3wcQ2az-"
      },
      "source": [
        "for fname, partition in [['train', 1], ['test', 2], ['dev', 3]]:\n",
        "    with open(fname + '.csv', 'w') as outfile:\n",
        "        writer = csv.writer(outfile)\n",
        "        writer.writerow(['sentence', 'sentiment'])\n",
        "        for row in dataset:\n",
        "            if row[0] == partition:\n",
        "                writer.writerow(row[1:])"
      ],
      "execution_count": 19,
      "outputs": []
    },
    {
      "cell_type": "code",
      "metadata": {
        "colab": {
          "base_uri": "https://localhost:8080/",
          "height": 204
        },
        "id": "5YXe5_Hz25Qv",
        "outputId": "a1555b50-bf9d-4f37-d16b-227aac752cd1"
      },
      "source": [
        "train_data = pd.read_csv('/content/train.csv')\n",
        "train_data.head()\n"
      ],
      "execution_count": 35,
      "outputs": [
        {
          "output_type": "execute_result",
          "data": {
            "text/html": [
              "<div>\n",
              "<style scoped>\n",
              "    .dataframe tbody tr th:only-of-type {\n",
              "        vertical-align: middle;\n",
              "    }\n",
              "\n",
              "    .dataframe tbody tr th {\n",
              "        vertical-align: top;\n",
              "    }\n",
              "\n",
              "    .dataframe thead th {\n",
              "        text-align: right;\n",
              "    }\n",
              "</style>\n",
              "<table border=\"1\" class=\"dataframe\">\n",
              "  <thead>\n",
              "    <tr style=\"text-align: right;\">\n",
              "      <th></th>\n",
              "      <th>sentence</th>\n",
              "      <th>sentiment</th>\n",
              "    </tr>\n",
              "  </thead>\n",
              "  <tbody>\n",
              "    <tr>\n",
              "      <th>0</th>\n",
              "      <td>... a bland murder-on-campus yawner .</td>\n",
              "      <td>1.0</td>\n",
              "    </tr>\n",
              "    <tr>\n",
              "      <th>1</th>\n",
              "      <td>... the picture 's cleverness is ironically mu...</td>\n",
              "      <td>3.0</td>\n",
              "    </tr>\n",
              "    <tr>\n",
              "      <th>2</th>\n",
              "      <td>classic cinema served up with heart and humor</td>\n",
              "      <td>5.0</td>\n",
              "    </tr>\n",
              "    <tr>\n",
              "      <th>3</th>\n",
              "      <td>entertaining enough , but nothing new</td>\n",
              "      <td>2.0</td>\n",
              "    </tr>\n",
              "    <tr>\n",
              "      <th>4</th>\n",
              "      <td>insightfully written , delicately performed</td>\n",
              "      <td>5.0</td>\n",
              "    </tr>\n",
              "  </tbody>\n",
              "</table>\n",
              "</div>"
            ],
            "text/plain": [
              "                                            sentence  sentiment\n",
              "0              ... a bland murder-on-campus yawner .        1.0\n",
              "1  ... the picture 's cleverness is ironically mu...        3.0\n",
              "2      classic cinema served up with heart and humor        5.0\n",
              "3              entertaining enough , but nothing new        2.0\n",
              "4        insightfully written , delicately performed        5.0"
            ]
          },
          "metadata": {
            "tags": []
          },
          "execution_count": 35
        }
      ]
    },
    {
      "cell_type": "code",
      "metadata": {
        "colab": {
          "base_uri": "https://localhost:8080/"
        },
        "id": "aLCsFjSG3dh-",
        "outputId": "662a7e88-9b03-49f0-c4a4-2b17f52b13f4"
      },
      "source": [
        "train_data.shape"
      ],
      "execution_count": 21,
      "outputs": [
        {
          "output_type": "execute_result",
          "data": {
            "text/plain": [
              "(8117, 2)"
            ]
          },
          "metadata": {
            "tags": []
          },
          "execution_count": 21
        }
      ]
    },
    {
      "cell_type": "code",
      "metadata": {
        "id": "uG16EbvK3nr7"
      },
      "source": [
        "# train_data['sentiment'] = train_data['sentiment'].astype(str)"
      ],
      "execution_count": 47,
      "outputs": []
    },
    {
      "cell_type": "code",
      "metadata": {
        "colab": {
          "base_uri": "https://localhost:8080/"
        },
        "id": "Pc6rmSSP3fLn",
        "outputId": "7055fc04-c3ca-447e-e2de-7373e1ab3915"
      },
      "source": [
        "train_data.sentiment.value_counts()"
      ],
      "execution_count": 22,
      "outputs": [
        {
          "output_type": "execute_result",
          "data": {
            "text/plain": [
              "4.0    2216\n",
              "2.0    2092\n",
              "3.0    1549\n",
              "5.0    1230\n",
              "1.0    1030\n",
              "Name: sentiment, dtype: int64"
            ]
          },
          "metadata": {
            "tags": []
          },
          "execution_count": 22
        }
      ]
    },
    {
      "cell_type": "code",
      "metadata": {
        "colab": {
          "base_uri": "https://localhost:8080/",
          "height": 204
        },
        "id": "gAmmZZJF4acv",
        "outputId": "7f6d3e68-64b8-480e-c70d-8361ab0dfb5f"
      },
      "source": [
        "train_data.head()"
      ],
      "execution_count": 23,
      "outputs": [
        {
          "output_type": "execute_result",
          "data": {
            "text/html": [
              "<div>\n",
              "<style scoped>\n",
              "    .dataframe tbody tr th:only-of-type {\n",
              "        vertical-align: middle;\n",
              "    }\n",
              "\n",
              "    .dataframe tbody tr th {\n",
              "        vertical-align: top;\n",
              "    }\n",
              "\n",
              "    .dataframe thead th {\n",
              "        text-align: right;\n",
              "    }\n",
              "</style>\n",
              "<table border=\"1\" class=\"dataframe\">\n",
              "  <thead>\n",
              "    <tr style=\"text-align: right;\">\n",
              "      <th></th>\n",
              "      <th>sentence</th>\n",
              "      <th>sentiment</th>\n",
              "    </tr>\n",
              "  </thead>\n",
              "  <tbody>\n",
              "    <tr>\n",
              "      <th>0</th>\n",
              "      <td>... a bland murder-on-campus yawner .</td>\n",
              "      <td>1.0</td>\n",
              "    </tr>\n",
              "    <tr>\n",
              "      <th>1</th>\n",
              "      <td>... the picture 's cleverness is ironically mu...</td>\n",
              "      <td>3.0</td>\n",
              "    </tr>\n",
              "    <tr>\n",
              "      <th>2</th>\n",
              "      <td>classic cinema served up with heart and humor</td>\n",
              "      <td>5.0</td>\n",
              "    </tr>\n",
              "    <tr>\n",
              "      <th>3</th>\n",
              "      <td>entertaining enough , but nothing new</td>\n",
              "      <td>2.0</td>\n",
              "    </tr>\n",
              "    <tr>\n",
              "      <th>4</th>\n",
              "      <td>insightfully written , delicately performed</td>\n",
              "      <td>5.0</td>\n",
              "    </tr>\n",
              "  </tbody>\n",
              "</table>\n",
              "</div>"
            ],
            "text/plain": [
              "                                            sentence  sentiment\n",
              "0              ... a bland murder-on-campus yawner .        1.0\n",
              "1  ... the picture 's cleverness is ironically mu...        3.0\n",
              "2      classic cinema served up with heart and humor        5.0\n",
              "3              entertaining enough , but nothing new        2.0\n",
              "4        insightfully written , delicately performed        5.0"
            ]
          },
          "metadata": {
            "tags": []
          },
          "execution_count": 23
        }
      ]
    },
    {
      "cell_type": "code",
      "metadata": {
        "colab": {
          "base_uri": "https://localhost:8080/"
        },
        "id": "3nbziGz40Vc5",
        "outputId": "d359252b-935d-4ccd-e722-499bd8f671d6"
      },
      "source": [
        "\n",
        "def delete(sent_delete):\n",
        "  del_array = np.array(sent_delete['sentence'])\n",
        "  for i in range(len(del_array)):\n",
        "    words = str(del_array[i]).split()\n",
        "    word_selected = random.choice(words)\n",
        "    if word_selected in ['`','~','!','@','#','$','%','^','&','*','(',')','-','_','+','=','{','}','[',']',':',';','|','\\\\',',','.','<','>','/','\\'','?']:\n",
        "      continue\n",
        "    word_deleted = random_deletion(word_selected, 0.4)\n",
        "    del_word = ''\n",
        "    for k in word_deleted:\n",
        "      del_word+=k\n",
        "    del_array[i] = str(del_array[i]).replace(word_selected,del_word)\n",
        "  sent_delete['sentence'] = del_array\n",
        "  return sent_delete\n",
        "\n",
        "sentence_delete = pd.DataFrame(train_data.iloc[:,:]).reset_index().drop(columns=['index'])\n",
        "print(sentence_delete.head())\n",
        "sentence_delete = delete(sentence_delete)"
      ],
      "execution_count": 56,
      "outputs": [
        {
          "output_type": "stream",
          "text": [
            "                                            sentence  sentiment\n",
            "0              ... a bland murder-on-campus yawner .        1.0\n",
            "1  ... the picture 's cleverness is ironically mu...        3.0\n",
            "2      classic cinema served up with heart and humor        5.0\n",
            "3              entertaining enough , but nothing new        2.0\n",
            "4        insightfully written , delicately performed        5.0\n"
          ],
          "name": "stdout"
        }
      ]
    },
    {
      "cell_type": "code",
      "metadata": {
        "colab": {
          "base_uri": "https://localhost:8080/"
        },
        "id": "vY23RMqa4wPE",
        "outputId": "1e9b8faa-debc-40c0-b596-7ab91427dea2"
      },
      "source": [
        "print(sentence_delete.head())"
      ],
      "execution_count": 57,
      "outputs": [
        {
          "output_type": "stream",
          "text": [
            "                                            sentence  sentiment\n",
            "0              ... a bland murder-on-campus yawner .        1.0\n",
            "1  ... the picture 's evrns is ironically muted b...        3.0\n",
            "2        classic cinema served up wh heart and humor        5.0\n",
            "3                 entertaining eno , but nothing new        2.0\n",
            "4           ingtfully written , delicately performed        5.0\n"
          ],
          "name": "stdout"
        }
      ]
    },
    {
      "cell_type": "code",
      "metadata": {
        "colab": {
          "base_uri": "https://localhost:8080/"
        },
        "id": "OoQZqLA8MdpZ",
        "outputId": "4a1b4599-56a4-474d-da93-3942013df0a4"
      },
      "source": [
        "print(sentence_delete.head(10))"
      ],
      "execution_count": 58,
      "outputs": [
        {
          "output_type": "stream",
          "text": [
            "                                            sentence  sentiment\n",
            "0              ... a bland murder-on-campus yawner .        1.0\n",
            "1  ... the picture 's evrns is ironically muted b...        3.0\n",
            "2        classic cinema served up wh heart and humor        5.0\n",
            "3                 entertaining eno , but nothing new        2.0\n",
            "4           ingtfully written , delicately performed        5.0\n",
            "5                Yet the act s still charming here .        4.0\n",
            "6  You 'd think by now America would have had eno...        3.0\n",
            "7               ... a essn in prehistoric hilarity .        3.0\n",
            "8  ... a trashy little bit of fluff stuffed with ...        3.0\n",
            "9  ... a triumph of emotionally and narratively c...        5.0\n"
          ],
          "name": "stdout"
        }
      ]
    },
    {
      "cell_type": "code",
      "metadata": {
        "colab": {
          "base_uri": "https://localhost:8080/",
          "height": 442
        },
        "id": "imGwKlbFCBCB",
        "outputId": "15e5f83b-b419-4baa-9f75-d5bdd321fedb"
      },
      "source": [
        "sentence_swap = pd.DataFrame(train_data.iloc[:,:]).reset_index().drop(columns=['index']) \n",
        "print(sentence_swap.head())\n",
        "sentence_swap['sentence'] = random_swap(sentence_swap['sentence'])\n",
        "sentence_swap.head(6)"
      ],
      "execution_count": 27,
      "outputs": [
        {
          "output_type": "stream",
          "text": [
            "                                            sentence  sentiment\n",
            "0              ... a bland murder-on-campus yawner .        1.0\n",
            "1  ... the picture 's cleverness is ironically mu...        3.0\n",
            "2      classic cinema served up with heart and humor        5.0\n",
            "3              entertaining enough , but nothing new        2.0\n",
            "4        insightfully written , delicately performed        5.0\n"
          ],
          "name": "stdout"
        },
        {
          "output_type": "stream",
          "text": [
            "/usr/local/lib/python3.7/dist-packages/ipykernel_launcher.py:5: SettingWithCopyWarning: \n",
            "A value is trying to be set on a copy of a slice from a DataFrame\n",
            "\n",
            "See the caveats in the documentation: https://pandas.pydata.org/pandas-docs/stable/user_guide/indexing.html#returning-a-view-versus-a-copy\n",
            "  \"\"\"\n"
          ],
          "name": "stderr"
        },
        {
          "output_type": "execute_result",
          "data": {
            "text/html": [
              "<div>\n",
              "<style scoped>\n",
              "    .dataframe tbody tr th:only-of-type {\n",
              "        vertical-align: middle;\n",
              "    }\n",
              "\n",
              "    .dataframe tbody tr th {\n",
              "        vertical-align: top;\n",
              "    }\n",
              "\n",
              "    .dataframe thead th {\n",
              "        text-align: right;\n",
              "    }\n",
              "</style>\n",
              "<table border=\"1\" class=\"dataframe\">\n",
              "  <thead>\n",
              "    <tr style=\"text-align: right;\">\n",
              "      <th></th>\n",
              "      <th>sentence</th>\n",
              "      <th>sentiment</th>\n",
              "    </tr>\n",
              "  </thead>\n",
              "  <tbody>\n",
              "    <tr>\n",
              "      <th>0</th>\n",
              "      <td>... a bland murder-on-campus yawner .</td>\n",
              "      <td>1.0</td>\n",
              "    </tr>\n",
              "    <tr>\n",
              "      <th>1</th>\n",
              "      <td>... the picture 's cleverness is ironically mu...</td>\n",
              "      <td>3.0</td>\n",
              "    </tr>\n",
              "    <tr>\n",
              "      <th>2</th>\n",
              "      <td>classic cinema served up with heart and humor</td>\n",
              "      <td>5.0</td>\n",
              "    </tr>\n",
              "    <tr>\n",
              "      <th>3</th>\n",
              "      <td>entertaining enough , but nothing new</td>\n",
              "      <td>2.0</td>\n",
              "    </tr>\n",
              "    <tr>\n",
              "      <th>4</th>\n",
              "      <td>insightfully written , delicately performed</td>\n",
              "      <td>5.0</td>\n",
              "    </tr>\n",
              "    <tr>\n",
              "      <th>5</th>\n",
              "      <td>Yet the act is still charming here .</td>\n",
              "      <td>4.0</td>\n",
              "    </tr>\n",
              "  </tbody>\n",
              "</table>\n",
              "</div>"
            ],
            "text/plain": [
              "                                            sentence  sentiment\n",
              "0              ... a bland murder-on-campus yawner .        1.0\n",
              "1  ... the picture 's cleverness is ironically mu...        3.0\n",
              "2      classic cinema served up with heart and humor        5.0\n",
              "3              entertaining enough , but nothing new        2.0\n",
              "4        insightfully written , delicately performed        5.0\n",
              "5               Yet the act is still charming here .        4.0"
            ]
          },
          "metadata": {
            "tags": []
          },
          "execution_count": 27
        }
      ]
    },
    {
      "cell_type": "code",
      "metadata": {
        "colab": {
          "base_uri": "https://localhost:8080/"
        },
        "id": "3j4i8YEW5Me1",
        "outputId": "6c8fd979-9169-4001-a193-0fd4b7b0d4c9"
      },
      "source": [
        "print(train_data.shape)\n",
        "print(sentence_delete.shape)\n",
        "print(sentence_swap.shape)\n",
        "sentence_translated = train_data\n",
        "sentence_translated = translate(sentence_translated)\n",
        "print(sentence_translated.shape)"
      ],
      "execution_count": 28,
      "outputs": [
        {
          "output_type": "stream",
          "text": [
            "(8117, 2)\n",
            "(8117, 2)\n",
            "(8117, 2)\n",
            "czech:  ... nevýrazný zející vrah na akademické půdě.\n",
            "Eng:  ... a faint yawning killer on campus.\n",
            "czech:  ... chytrost obrazu je ironicky ztlumena samotnými lidmi, kteří ho chtějí rozzářit.\n",
            "Eng:  ... the cleverness of the image is ironically dimmed by the people themselves who want to brighten it.\n",
            "czech:  klasické kino servírované srdcem a humorem\n",
            "Eng:  classic cinema served with heart and humor\n",
            "czech:  dostatečně zábavné, ale nic nového\n",
            "Eng:  fun enough, but nothing new\n",
            "czech:  nápadně napsané, jemně provedené\n",
            "Eng:  conspicuously written, finely executed\n",
            "czech:  Tento akt je zde stále okouzlující.\n",
            "Eng:  This act is still charming here.\n",
            "czech:  Mysleli byste si, že Amerika by už měla dost odvážných britských výstředníků se zlatými srdíčky.\n",
            "Eng:  You would think that America would already have enough brave British eccentricities with golden hearts.\n",
            "czech:  ... lekce prehistorické veselosti.\n",
            "Eng:  ... lessons of prehistoric merriment.\n",
            "czech:  ... kýčovitý kousek chmýří plný příjemných představení a matoucí pocit vlastní důležitosti\n",
            "Eng:  ... a kitschy piece of fluff full of pleasant performances and a confusing sense of self-importance\n",
            "czech:  ... triumf emocionálně a narativně složité filmové tvorby.\n",
            "Eng:  ... the triumph of emotionally and narratively complex filmmaking.\n",
            "czech:  ... začíná vysokou notou a krásně ji udržuje.\n",
            "Eng:  ... starts with a high note and maintains it beautifully.\n",
            "czech:  ... začíná slibem, ale najede na mělčinu poté, co byl uvězněn ve svém zamotaném spiknutí.\n",
            "Eng:  ... begins with a promise, but runs aground after being trapped in his tangled plot.\n",
            "czech:  ... nejlépe viděno jako spekulativní historie, stejně jako zkoumání paranoidního impulzu jako kreativní pokračování Warrenovy zprávy.\n",
            "Eng:  ... best seen as a speculative history, as well as an exploration of the paranoid impulse as a creative sequel to Warren's report.\n",
            "czech:  ... vytváří viscerální smysl pro život svých postav a konfliktní emoce, které ji přenášejí vysoko ... co by mohlo být melodramatickou antologií ve stylu Lifetime Channel.\n",
            "Eng:  ... creates a visceral sense of life for your characters and conflicting emotions that carry it high ... which could be a melodramatic anthology in the style of the Lifetime Channel.\n",
            "czech:  ... jakmile se rozvine skutečný dopad dne, síla tohoto filmu je nepopiratelná.\n",
            "Eng:  ... once the real impact of the day develops, the power of this film is undeniable.\n",
            "czech:  ... v „Životu“ je dost originality na to, aby se vzdalil od balíku romantických komedií podle počtu, které tak často končí na filmových plátnech.\n",
            "Eng:  ... in \"Life\" there is enough originality to move away from the package of romantic comedies by number, which so often ends on movie screens.\n",
            "czech:  ... velmi vtipné, velmi příjemné ...\n",
            "Eng:  ... very funny, very nice ...\n",
            "czech:  Zákulisí, které musí opravdoví fanoušci komedie vidět.\n",
            "Eng:  Behind the scenes that true comedy fans must see.\n",
            "czech:  Brutálně upřímný dokument o hodně očekávaném setkání rodiny, které se pokazí díky kulturnímu šoku a odmítnutí vcítit se do ostatních.\n",
            "Eng:  A brutally honest documentary about a much-anticipated family reunion that goes wrong with culture shock and a refusal to empathize with others.\n",
            "czech:  Vzrušující romantická komedie o přátelství, lásce a pravdě, že jsme v tom všichni společně.\n",
            "Eng:  An exciting romantic comedy about friendship, love and the truth that we are all in it together.\n",
            "czech:  Podmanivý příběh budoucnosti, který může být také prvním narativním filmem, který bude bezdrátovým věkem skutečně informován.\n",
            "Eng:  A captivating story of the future, which may also be the first narrative film to be truly informed by the wireless age.\n",
            "czech:  Podmanivý nový film.\n",
            "Eng:  Captivating new film.\n",
            "czech:  Podmanivě nepředvídatelný hybrid postavového portrétu, romantické komedie a thrilleru s nepřetržitým provozem.\n",
            "Eng:  Captivatingly unpredictable hybrid of character portrait, romantic comedy and thriller with continuous operation.\n",
            "czech:  Mrazivý příběh o jednom z největších zločinů Francie 20. století: vražda dvou bohatých žen jejich sluhy v roce 1933.\n",
            "Eng:  A chilling story about one of the greatest crimes of France in the 20th century: the murder of two rich women by their servants in 1933.\n",
            "czech:  Příběh dospívání z Nového Zélandu, jehož chabý, malátný vzduch je vyvážen bohatou vizuální jasností a hluboce procítěnými výkony.\n",
            "Eng:  The story of adolescence from New Zealand, whose faint, sluggish air is balanced by rich visual clarity and deeply felt performances.\n",
            "czech:  Působivý film, který ilustruje americkou tragédii.\n",
            "Eng:  An impressive film that illustrates the American tragedy.\n",
            "czech:  Působivá příze, ale ne tak docela trhací.\n",
            "Eng:  Impressive yarn, but not quite tearing.\n",
            "czech:  Složité psychologické drama o otci, který se po desetiletích vrací do domu svého syna.\n",
            "Eng:  A complex psychological drama about a father who returns to his son's house after decades.\n",
            "czech:  Rozhodný nedostatek spontánnosti při jeho provádění a nedostatek skutečné naléhavosti v jeho epifaniích.\n",
            "Eng:  A decisive lack of spontaneity in its implementation and a lack of real urgency in its epiphanes.\n",
            "czech:  Lahodný, nepředvídatelný film se skvělým scénářem a fantazijním směrem od Michaela Gondryho.\n",
            "Eng:  A delicious, unpredictable film with a great screenplay and a fantasy direction by Michael Gondry.\n",
            "czech:  Příjemný stimul pro zrakové nervy, natolik, že je přípustné, aby se zápletka cítila jako každý jiný příběh zítřka o totalitě.\n",
            "Eng:  A pleasant stimulus for the optic nerves, so much so that it is permissible for the plot to feel like any other story of tomorrow about totalitarianism.\n",
            "czech:  Režisérská exkurze od Bernarda Rose, ivans atd.\n",
            "Eng:  Director's excursion from Bernard Rose, ivans etc.\n",
            "czech:  Znepokojující zkoumání toho, co se jeví jako definice „špatné“ policejní střelby.\n",
            "Eng:  A disturbing examination of what appears to be a definition of \"bad\" police shooting.\n",
            "czech:  Drama velké síly, přesto někteří diváci opustí divadlo v domnění, že viděli komedii.\n",
            "Eng:  A drama of great power, yet some viewers leave the theater believing they have seen a comedy.\n",
            "czech:  Drol, mrzutý blázen, který si dělá legraci za cenu popularity a předtuchu v malém městě ve státě Lone Star.\n",
            "Eng:  Drol, a grumpy fool who jokes at the cost of popularity and foreboding in a small town in the state of Lone Star.\n",
            "czech:  Fantasticky zásadní film, který dokáže investovat skutečný humor, smyslnost a sympatie do příběhu o dvou dospívajících chlapcích.\n",
            "Eng:  A fantastically crucial film that manages to invest real humor, sensuality and sympathy in a story about two teenage boys.\n",
            "czech:  Fascinující, temný thriller, který vás udrží závislou na lahodné pulznosti jeho odporné fikce.\n",
            "Eng:  A fascinating, dark thriller that will keep you addicted to the delicious pulsation of his disgusting fiction.\n",
            "czech:  Fascinující dokument, který poskytuje ucelený a odhalující přehled o tomto starodávném holistickém léčebném systému\n",
            "Eng:  A fascinating documentary that provides a comprehensive and revealing overview of this ancient holistic healing system\n",
            "czech:  Skvělý film, ale bylo by mnohem lepší, kdyby se držel Betty Fisherové a vynechal ostatní příběhy.\n",
            "Eng:  Great movie, but it would be much better if he stuck to Betty Fisher and left out the other stories.\n",
            "czech:  Prvotřídní silniční film, který dokazuje, že můžete utéct z domova, ale vaše ego a všechny vaše problémy jdou s vámi.\n",
            "Eng:  A first-class road movie that proves you can run away from home, but your ego and all your problems go with you.\n",
            "czech:  Klenot romantické kriminální komedie, která se ukáže jako chytrá, zábavná a nepředvídatelná.\n",
            "Eng:  A gem of a romantic crime comedy that turns out to be clever, entertaining and unpredictable.\n",
            "czech:  Jemně zábavný, sladce dobrodružný film, díky kterému se budete cítit opravdu dobře, to znamená, že vás nepřekonají falešné nálady ani ostré, přehnaně manipulativní hollywoodské praktiky.\n",
            "Eng:  A subtly entertaining, sweetly adventurous film that will make you feel really good, which means that you will not be overwhelmed by false moods or sharp, overly manipulative Hollywood practices.\n",
            "czech:  Skutečně dojemné a moudře nesentimentální drama.\n",
            "Eng:  A truly moving and wisely unsentimental drama.\n",
            "czech:  Dobrý film se solidním rodokmenem před kamerou, přesněji za ní.\n",
            "Eng:  A good film with a solid pedigree in front of the camera, more precisely behind it.\n",
            "czech:  Půvabná a dojímavá pocta odvaze toho nejlepšího z New Yorku a pěkně podhodnocený výraz smutku sdíleného národem při jejich oběti.\n",
            "Eng:  A charming and touching tribute to the courage of the best of New York and a nicely understated expression of the sadness shared by the nation in their sacrifice.\n",
            "czech:  Srdečný příběh malých vítězství a trvalé naděje.\n",
            "Eng:  A heartfelt story of small victories and lasting hopes.\n",
            "czech:  Vysoce temperamentní, nápaditý dětský film, který protíná neo-augustiniánskou teologii: Je Bůh zaseknutý v nebi, protože se bojí svého nejznámějšího stvoření?\n",
            "Eng:  A highly spirited, imaginative children's film that intersects with neo-Augustinian theology: Is God stuck in heaven because he fears his most famous creature?\n",
            "czech:  Obrovsky obohacující zážitek, který je stejně poučný, bystrý a zábavný jako dva nejlepší Grantovy filmy - Čtyři svatby a pohřeb a Deník Bridget Jonesové.\n",
            "Eng:  A hugely enriching experience that is as enlightening, insightful and entertaining as Grant's two best films - Four Weddings and a Funeral and Bridget Jones's Diary.\n",
            "czech:  Vědomý smysl pro humor a spousta tepla zapálí Syna nevěsty.\n",
            "Eng:  A conscious sense of humor and a lot of warmth will ignite the Son of the Bride.\n",
            "czech:  Literární detektivní příběh je stále detektivním příběhem a fanoušci whodunitu nebudou zklamáni.\n",
            "Eng:  The literary detective story is still a detective story and whodunite fans will not be disappointed.\n",
            "czech:  Lyrická metafora kulturního a osobního objevování a pikareskní pohled na málo zapamatovaný svět.\n",
            "Eng:  A lyrical metaphor of cultural and personal discovery and a picaresque view of a little-remembered world.\n",
            "czech:  Hrůzostrašný a velmi stylizovaný švédský film o moderním městě, kde jsou všechny náboženské a občanské ctnosti, které drží společnost na svém místě, v troskách.\n",
            "Eng:  A terrifying and highly stylized Swedish film about a modern city, where all the religious and civic virtues that keep society in place are in ruins.\n",
            "czech:  Nezapomenutelný zážitek, který, stejně jako mnoho z jeho prací, představuje závažné problémy barevně zabalené do jeho vlastní idiosynkratické zátěže kýčovité dobré vůle.\n",
            "Eng:  An unforgettable experience which, like many of his works, presents serious problems color-wrapped in his own idiosyncratic burden of kitschy goodwill.\n",
            "czech:  Drobné dílo, ale nelze popřít účinnost Millerova podivného, ​​prchavého vaření nadějné vytrvalosti a beznadějného uzavření.\n",
            "Eng:  A small work, but there is no denying the effectiveness of Miller's strange, fleeting cooking of hopeful perseverance and hopeless closure.\n",
            "czech:  Film, který v nejlepším případě nevyužívá pouze chyby svých postav, ale trvá na ctnosti nedokonalosti.\n",
            "Eng:  A film that, at best, uses not only the mistakes of its characters, but insists on the virtues of imperfection.\n",
            "czech:  Film, který vzrušuje oko a svým nadprůměrným způsobem zasahuje srdce.\n",
            "Eng:  A film that excites the eye and reaches the heart in an above-average way.\n",
            "czech:  Film, který pro uši fanoušků Cho určitě bude profánní, politicky nabitá hudba.\n",
            "Eng:  A film that will definitely be profane, politically charged music for the ears of Cho fans.\n",
            "czech:  Dojemný příběh lásky a zkázy na neočekávaných místech, neprozkoumaných životech.\n",
            "Eng:  A touching story of love and destruction in unexpected places, unexplored lives.\n",
            "czech:  Filmový zážitek bez omezení.\n",
            "Eng:  Unlimited movie experience.\n",
            "czech:  Strana-vydatný dospívající film, který se opaří jako kyselina.\n",
            "Eng:  A side-hearty teen movie that scalds like acid.\n",
            "czech:  Dokonale příjemná, i když mírně pokey komedie.\n",
            "Eng:  Perfectly enjoyable, albeit slightly pokey comedy.\n",
            "czech:  Pozitivně vzrušující kombinace etnografie a všech intrik, zrady, podvodu a vraždy shakespearovské tragédie nebo šťavnaté telenovely.\n",
            "Eng:  A positively exciting combination of ethnography and all the intrigue, betrayal, deception and murder of a Shakespearean tragedy or a juicy soap opera.\n",
            "czech:  Skutečný vítěz - chytrý, zábavný, jemný a zvučný.\n",
            "Eng:  A real winner - smart, fun, gentle and resonant.\n",
            "czech:  Rozumně zábavné pokračování překvapivého rodinného hitu z roku 1994, který může napnout důvěryhodnost dospělých.\n",
            "Eng:  Reasonably entertaining sequel to the surprising 1994 family hit, which can strain adult credibility.\n",
            "czech:  Bohatý příběh naší doby, velmi dobře vyprávěný s přiměřeným minimem prostředků.\n",
            "Eng:  A rich story of our time, very well told with a reasonable minimum of resources.\n",
            "czech:  Akční slavnostní komediální akční trh, který vám dá chlupy na prsa.\n",
            "Eng:  Action festive comedy action market that will put your hair on your chest.\n",
            "czech:  Citlivá, skromná komediální tragédie, která funguje jednak jako studium postav, jednak jako symbolické zkoumání obrovských ekonomických změn, které se šíří moderní Čínou.\n",
            "Eng:  A sensitive, modest comedic tragedy that functions both as a study of the characters and as a symbolic exploration of the enormous economic changes that are spreading through modern China.\n",
            "czech:  Citlivé, dojemné, skvěle postavené dílo.\n",
            "Eng:  Sensitive, touching, well-built work.\n",
            "czech:  Sexy, podivné a vždy zábavné kostýmní drama odehrávající se v renesančním Španělsku a skutečnost, že je založeno na skutečných událostech, je o to přitažlivější.\n",
            "Eng:  The sexy, weird and always entertaining costume drama set in Renaissance Spain and the fact that it is based on real events is all the more appealing.\n",
            "czech:  Ostré, zábavné studium kultu celebrit.\n",
            "Eng:  A sharp, fun study of the celebrity cult.\n",
            "czech:  Úhledná, strhující melodrama.\n",
            "Eng:  Neat, captivating melodrama.\n",
            "czech:  Chytrá, oblouková a poměrně chladnokrevná komedie.\n",
            "Eng:  A clever, arched and relatively cold-blooded comedy.\n",
            "czech:  Chytrá směsice road movie, příběhu o dospívání a politické satiry.\n",
            "Eng:  A clever mix of road movie, adolescence story and political satire.\n",
            "czech:  Solidní, strašidelná zábava hodná ceny lístku.\n",
            "Eng:  Solid, spooky entertainment worth a ticket.\n",
            "czech:  Pevný a rafinovaný filmový film naplněný vášní a přístupem.\n",
            "Eng:  A solid and refined film film filled with passion and attitude.\n",
            "czech:  Solidní kus novinářské práce, který vykresluje obraz muže, pro kterého se politická výhodnost stala smrtící zahraniční politikou.\n",
            "Eng:  A solid piece of journalistic work that paints a picture of a man for whom political advantage has become a deadly foreign policy.\n",
            "czech:  Příběh o inteligentních studentech středních škol, který pojednává o první lásce sladce, ale také vážně.\n",
            "Eng:  A story about intelligent high school students, which deals with first love sweetly, but also seriously.\n",
            "czech:  Stylový dovádění, na které je vždy zábavné se dívat.\n",
            "Eng:  Stylish antics that are always fun to watch.\n",
            "czech:  Úžasný B film - ve skutečnosti to nejlepší v nedávné paměti.\n",
            "Eng:  Amazing B movie - actually the best in recent memory.\n",
            "czech:  Úžasný zasvěcený pohled na hvězdotvornou mašinérii pozlátka.\n",
            "Eng:  Amazing insider view of the star-forming tinsel machinery.\n",
            "czech:  Důkladně zábavná komedie, která využívá vlastní Grantovu kyselost, aby zabránila tomu, aby podlehla svému vlastnímu bathosu.\n",
            "Eng:  A thoroughly entertaining comedy that uses Grant's own acidity to prevent her from succumbing to her own bathos.\n",
            "czech:  Promyšlený film, film zabývající se duší a rizikem a schématy a důsledky něčího jednání.\n",
            "Eng:  A thoughtful film, a film dealing with soul and risk and the schemes and consequences of one's actions.\n",
            "czech:  Tříhodinová mistrovská třída kina.\n",
            "Eng:  Three-hour master class of cinema.\n",
            "czech:  Dojemný malý příběh rodinné odpovědnosti a péče v komunitě.\n",
            "Eng:  A touching little story of family responsibility and care in the community.\n",
            "czech:  Dojemný, sofistikovaný film, který téměř vypadá jako dokumentární film tak, jak zachycuje italskou rodinu přistěhovalců na pokraji velkých změn.\n",
            "Eng:  A touching, sophisticated film that almost looks like a documentary, capturing an Italian family of immigrants on the brink of great change.\n",
            "czech:  Velmi zábavná romantická komedie o dvou plachých newyorských prostřednících, kteří narazí na vztah a poté zuřivě bojují se svými strachy a slabostmi.\n",
            "Eng:  A very entertaining romantic comedy about two shy New York mediators who come across a relationship and then fight fiercely with their fears and weaknesses.\n",
            "czech:  Zvláštní, zatýkání.\n",
            "Eng:  Strange, arrest.\n",
            "czech:  Vítaná úleva od baseballových filmů, které se příliš snaží být mýtické, je to sladký a skromný a nakonec vítězný příběh.\n",
            "Eng:  A welcome relief from baseball films that try too hard to be mythical, it's a sweet and humble and ultimately winning story.\n",
            "czech:  Vítězné dílo plné lásky k filmům 60. let.\n",
            "Eng:  A winning work full of love for the films of the 60's.\n",
            "czech:  Vtipný, průkopnický, divoce nesentimentální, ale chybný pohled na zápletky moderního filmového průmyslu.\n",
            "Eng:  A humorous, pioneering, wildly unsentimental, but erroneous look at the plots of the modern film industry.\n",
            "czech:  Vtipný, náladový celovečerní debut.\n",
            "Eng:  A funny, moody feature debut.\n",
            "czech:  Adaptace je složitě konstruována a zvláštním způsobem spojuje všechna Orleanina témata, aniž by byla skutečnou adaptací její knihy.\n",
            "Eng:  The adaptation is intricately constructed and connects all of Orlean's themes in a special way, without being a real adaptation of her book.\n",
            "czech:  Láskavě nám připomíná, že v jakémkoli jazyce lze obrovské věci v životě obvykle vysledovat zpět k maličkostem.\n",
            "Eng:  He kindly reminds us that in any language, huge things in life can usually be traced back to trifles.\n",
            "czech:  Kamera Alaina Choquarta se sotva přestane hýbat, vykresluje jak zmatek času, tak dává Conductovi neustálý pocit naléhavosti, což je pro film, jehož rozložení trvá téměř tři hodiny, zábavné a dráždivé.\n",
            "Eng:  Alain Choquart's camera barely stops moving, depicting both the confusion of time and giving Conduct a constant sense of urgency, which is amusing and irritating for a film that takes almost three hours to set up.\n",
            "czech:  Allenův nejzábavnější a nejoblíbenější film za poslední roky.\n",
            "Eng:  Allen's most entertaining and popular film in recent years.\n",
            "czech:  Allenovo podceňované kouzlo přináší více dobrot než kousky uhlí.\n",
            "Eng:  Allen's underrated charm brings more goodies than pieces of coal.\n",
            "czech:  Allen ukazuje, že dnes může překonat kteréhokoli z těch mladých whippersnapperů, kteří dělají pohyblivé obrázky.\n",
            "Eng:  Allen shows that today he can beat any of those young whippersnappers who make moving pictures.\n",
            "czech:  I když je to docela slušné, pokud to jde, film nakonec nemá tolik čerstvého, co by se dalo říci o tom, že vyrostl katolík nebo opravdu cokoli.\n",
            "Eng:  While it's pretty decent as far as it goes, the film doesn't have as much fresh in the end as can be said to have grown up Catholic or anything.\n",
            "czech:  Amari oblékla toto malé podobenství do poměrně neodolatelného balíčku plného privilegovaných okamžiků a nezapomenutelných představení.\n",
            "Eng:  Amari dressed this little parable in a relatively irresistible package full of privileged moments and unforgettable performances.\n",
            "czech:  Poutavé a znepokojující psychologické drama.\n",
            "Eng:  An engaging and disturbing psychological drama.\n",
            "czech:  Absurdní pavučina.\n",
            "Eng:  Absurd spider web.\n",
            "czech:  Průměrný příběh o dospívání umocněný zdravým zvratem otravné matky, která zasahovala při objevování jeho homosexuality jejím synem.\n",
            "Eng:  An average story of adolescence amplified by the healthy reversal of an annoying mother who intervened in the discovery of his homosexuality by her son.\n",
            "czech:  Hranatý thriller, který přináší překvapivý úder.\n",
            "Eng:  An angular thriller that brings a surprising blow.\n",
            "czech:  Příjemný, i když občas chybný, experiment.\n",
            "Eng:  A pleasant, though sometimes wrong, experiment.\n",
            "czech:  An entertaining British hybrid of comedy , caper thrills and quirky romance .\n",
            "Eng:  An entertaining British hybrid of comedy , caper thrills and quirky romance .\n",
            "czech:  An entertaining documentary that freshly considers arguments the Bard 's immortal plays were written by somebody else .\n",
            "Eng:  An entertaining documentary that freshly considers arguments the Bard 's immortal plays were written by somebody else .\n",
            "czech:  An enthralling aesthetic experience , one that 's steeped in mystery and a ravishing , baroque beauty .\n",
            "Eng:  An enthralling aesthetic experience , one that 's steeped in mystery and a ravishing , baroque beauty .\n",
            "czech:  An exhilarating serving of movie fluff .\n",
            "Eng:  An exhilarating serving of movie fluff .\n",
            "czech:  An honest , sensitive story from a Vietnamese point of view .\n",
            "Eng:  An honest , sensitive story from a Vietnamese point of view .\n",
            "czech:  An immensely entertaining look at some of the unsung heroes of 20th century pop music .\n",
            "Eng:  An immensely entertaining look at some of the unsung heroes of 20th century pop music .\n",
            "czech:  An impeccable study in perversity .\n",
            "Eng:  An impeccable study in perversity .\n",
            "czech:  An intense and effective film about loneliness and the chilly anonymity of the environments where so many of us spend so much of our time .\n",
            "Eng:  An intense and effective film about loneliness and the chilly anonymity of the environments where so many of us spend so much of our time .\n",
            "czech:  An interesting look behind the scenes of Chicago-based rock group Wilco ...\n",
            "Eng:  An interesting look behind the scenes of Chicago-based rock group Wilco ...\n",
            "czech:  An inventive , absorbing movie that 's as hard to classify as it is hard to resist .\n",
            "Eng:  An inventive , absorbing movie that 's as hard to classify as it is hard to resist .\n",
            "czech:  An oddity , to be sure , but one that you might wind up remembering with a degree of affection rather than revulsion .\n",
            "Eng:  An oddity , to be sure , but one that you might wind up remembering with a degree of affection rather than revulsion .\n",
            "czech:  An old-fashioned drama of substance about a teacher 's slide down the slippery slope of dishonesty after an encounter with the rich and the powerful who have nothing but disdain for virtue .\n",
            "Eng:  An old-fashioned drama of substance about a teacher 's slide down the slippery slope of dishonesty after an encounter with the rich and the powerful who have nothing but disdain for virtue .\n",
            "czech:  An unforgettable look at morality , family , and social expectation through the prism of that omnibus tradition called marriage .\n",
            "Eng:  An unforgettable look at morality , family , and social expectation through the prism of that omnibus tradition called marriage .\n",
            "czech:  Antwone Fisher certainly does the trick of making us care about its protagonist and celebrate his victories but , with few exceptions , it rarely stoops to cheap manipulation or corny conventions to do it .\n",
            "Eng:  Antwone Fisher certainly does the trick of making us care about its protagonist and celebrate his victories but , with few exceptions , it rarely stoops to cheap manipulation or corny conventions to do it .\n",
            "czech:  Arteta directs one of the best ensemble casts of the year\n",
            "Eng:  Arteta directs one of the best ensemble casts of the year\n",
            "czech:  As an introduction to the man 's theories and influence , Derrida is all but useless ; as a portrait of the artist as an endlessly inquisitive old man , however , it 's invaluable .\n",
            "Eng:  As an introduction to the man 's theories and influence , Derrida is all but useless ; as a portrait of the artist as an endlessly inquisitive old man , however , it 's invaluable .\n",
            "czech:  As broad and cartoonish as the screenplay is , there is an accuracy of observation in the work of the director , Frank Novak , that keeps the film grounded in an undeniable social realism .\n",
            "Eng:  As broad and cartoonish as the screenplay is , there is an accuracy of observation in the work of the director , Frank Novak , that keeps the film grounded in an undeniable social realism .\n",
            "czech:  As giddy and whimsical and relevant today as it was 270 years ago .\n",
            "Eng:  As giddy and whimsical and relevant today as it was 270 years ago .\n",
            "czech:  As gory as the scenes of torture and self-mutilation may be , they are pitted against shimmering cinematography that lends the setting the ethereal beauty of an Asian landscape painting .\n",
            "Eng:  As gory as the scenes of torture and self-mutilation may be , they are pitted against shimmering cinematography that lends the setting the ethereal beauty of an Asian landscape painting .\n",
            "czech:  As satisfyingly odd and intriguing a tale as it was a century and a half ago ... has a delightfully dour , deadpan tone and stylistic consistency .\n",
            "Eng:  As satisfyingly odd and intriguing a tale as it was a century and a half ago ... has a delightfully dour , deadpan tone and stylistic consistency .\n",
            "czech:  As simple and innocent a movie as you can imagine .\n",
            "Eng:  As simple and innocent a movie as you can imagine .\n",
            "czech:  At the end , when the now computerized Yoda finally reveals his martial artistry , the film ascends to a kinetic life so teeming that even cranky adults may rediscover the quivering kid inside .\n",
            "Eng:  At the end , when the now computerized Yoda finally reveals his martial artistry , the film ascends to a kinetic life so teeming that even cranky adults may rediscover the quivering kid inside .\n",
            "czech:  Australia : Land Beyond Time is an enjoyable Big Movie primarily because Australia is a weirdly beautiful place .\n",
            "Eng:  Australia : Land Beyond Time is an enjoyable Big Movie primarily because Australia is a weirdly beautiful place .\n",
            "czech:  Beautifully shot , delicately scored and powered by a set of heartfelt performances , it 's a lyrical endeavour .\n",
            "Eng:  Beautifully shot , delicately scored and powered by a set of heartfelt performances , it 's a lyrical endeavour .\n",
            "czech:  Birthday Girl lucks out with Chaplin and Kidman , who are capable of anteing up some movie star charisma when they need it to sell us on this twisted love story , but who can also negotiate the movie 's darker turns .\n",
            "Eng:  Birthday Girl lucks out with Chaplin and Kidman , who are capable of anteing up some movie star charisma when they need it to sell us on this twisted love story , but who can also negotiate the movie 's darker turns .\n",
            "czech:  Bogdanovich puts history in perspective and , via Kirsten Dunst 's remarkable performance , he showcases Davies as a young woman of great charm , generosity and diplomacy .\n",
            "Eng:  Bogdanovich puts history in perspective and , via Kirsten Dunst 's remarkable performance , he showcases Davies as a young woman of great charm , generosity and diplomacy .\n",
            "czech:  Bogdanovich taps deep into the Hearst mystique , entertainingly reenacting a historic scandal .\n",
            "Eng:  Bogdanovich taps deep into the Hearst mystique , entertainingly reenacting a historic scandal .\n",
            "czech:  Boomers and their kids will have a Barrie good time .\n",
            "Eng:  Boomers and their kids will have a Barrie good time .\n",
            "czech:  Both flawed and delayed , Martin Scorcese 's Gangs of New York still emerges as his most vital work since GoodFellas .\n",
            "Eng:  Both flawed and delayed , Martin Scorcese 's Gangs of New York still emerges as his most vital work since GoodFellas .\n",
            "czech:  Both heartbreaking and heartwarming ... just a simple fable done in an artless sytle , but it 's tremendously moving .\n",
            "Eng:  Both heartbreaking and heartwarming ... just a simple fable done in an artless sytle , but it 's tremendously moving .\n",
            "czech:  Brian Tufano 's handsome widescreen photography and Paul Grabowsky 's excellent music turn this fairly parochial melodrama into something really rather special .\n",
            "Eng:  Brian Tufano 's handsome widescreen photography and Paul Grabowsky 's excellent music turn this fairly parochial melodrama into something really rather special .\n",
            "czech:  But darned if it does n't also keep us riveted to our seats .\n",
            "Eng:  But darned if it does n't also keep us riveted to our seats .\n",
            "czech:  By no means a great movie , but it is a refreshingly forthright one .\n",
            "Eng:  By no means a great movie , but it is a refreshingly forthright one .\n",
            "czech:  By no means a slam-dunk and sure to ultimately disappoint the action fans who will be moved to the edge of their seats by the dynamic first act , it still comes off as a touching , transcendent love story .\n",
            "Eng:  By no means a slam-dunk and sure to ultimately disappoint the action fans who will be moved to the edge of their seats by the dynamic first act , it still comes off as a touching , transcendent love story .\n",
            "czech:  By not averting his eyes , Solondz forces us to consider the unthinkable , the unacceptable , the unmentionable .\n",
            "Eng:  By not averting his eyes , Solondz forces us to consider the unthinkable , the unacceptable , the unmentionable .\n",
            "czech:  By the standards of knucklehead swill , The Hot Chick is pretty damned funny .\n",
            "Eng:  By the standards of knucklehead swill , The Hot Chick is pretty damned funny .\n",
            "czech:  By turns fanciful , grisly and engagingly quixotic .\n",
            "Eng:  By turns fanciful , grisly and engagingly quixotic .\n",
            "czech:  Call it magic realism or surrealism , but Miss Wonton floats beyond reality with a certain degree of wit and dignity .\n",
            "Eng:  Call it magic realism or surrealism , but Miss Wonton floats beyond reality with a certain degree of wit and dignity .\n",
            "czech:  Certainly the performances are worthwhile .\n",
            "Eng:  Certainly the performances are worthwhile .\n",
            "czech:  Cho 's latest comic set is n't as sharp or as fresh as I 'm the One That I Want ... but it 's still damn funny stuff .\n",
            "Eng:  Cho 's latest comic set is n't as sharp or as fresh as I 'm the One That I Want ... but it 's still damn funny stuff .\n",
            "czech:  Cho 's timing is priceless .\n",
            "Eng:  Cho 's timing is priceless .\n",
            "czech:  Cineasts will revel in those visual in-jokes , as in the film 's verbal pokes at everything from the likes of Miramax chief Harvey Weinstein 's bluff personal style to the stylistic rigors of Denmark 's Dogma movement .\n",
            "Eng:  Cineasts will revel in those visual in-jokes , as in the film 's verbal pokes at everything from the likes of Miramax chief Harvey Weinstein 's bluff personal style to the stylistic rigors of Denmark 's Dogma movement .\n",
            "czech:  Clint Eastwood 's Blood Work is a lot like a well-made PB & J sandwich : familiar , fairly uneventful and boasting no real surprises -- but still quite tasty and inviting all the same .\n",
            "Eng:  Clint Eastwood 's Blood Work is a lot like a well-made PB & J sandwich : familiar , fairly uneventful and boasting no real surprises -- but still quite tasty and inviting all the same .\n",
            "czech:  Clooney directs this film always keeping the balance between the fantastic and the believable ...\n",
            "Eng:  Clooney directs this film always keeping the balance between the fantastic and the believable ...\n",
            "czech:  Coppola 's directorial debut is an incredibly layered and stylistic film that , despite a fairly slow paced , almost humdrum approach to character development , still manages at least a decent attempt at meaningful cinema .\n",
            "Eng:  Coppola 's directorial debut is an incredibly layered and stylistic film that , despite a fairly slow paced , almost humdrum approach to character development , still manages at least a decent attempt at meaningful cinema .\n",
            "czech:  Cusack 's just brilliant in this .\n",
            "Eng:  Cusack 's just brilliant in this .\n",
            "czech:  Dark and disturbing , yet compelling to watch .\n",
            "Eng:  Dark and disturbing , yet compelling to watch .\n",
            "czech:  Davis ... gets vivid performances from her cast and pulls off some deft Ally McBeal-style fantasy sequences .\n",
            "Eng:  Davis ... gets vivid performances from her cast and pulls off some deft Ally McBeal-style fantasy sequences .\n",
            "czech:  Defies logic , the laws of physics and almost anyone 's willingness to believe in it .\n",
            "Eng:  Defies logic , the laws of physics and almost anyone 's willingness to believe in it .\n",
            "czech:  Definitely funny stuff , but it 's more of the ` laughing at ' variety than the ` laughing with . '\n",
            "Eng:  Definitely funny stuff , but it 's more of the ` laughing at ' variety than the ` laughing with . '\n",
            "czech:  Despite Besson 's high-profile name being Wasabi 's big selling point , there is no doubt that Krawczyk deserves a huge amount of the credit for the film 's thoroughly winning tone .\n",
            "Eng:  Despite Besson 's high-profile name being Wasabi 's big selling point , there is no doubt that Krawczyk deserves a huge amount of the credit for the film 's thoroughly winning tone .\n",
            "czech:  Despite its shortcomings , Girls Ca n't Swim represents an engaging and intimate first feature by a talented director to watch , and it 's a worthy entry in the French coming-of-age genre .\n",
            "Eng:  Despite its shortcomings , Girls Ca n't Swim represents an engaging and intimate first feature by a talented director to watch , and it 's a worthy entry in the French coming-of-age genre .\n",
            "czech:  Despite the film 's shortcomings , the stories are quietly moving .\n",
            "Eng:  Despite the film 's shortcomings , the stories are quietly moving .\n",
            "czech:  Director David Jacobson gives Dahmer a consideration that the murderer never game his victims .\n",
            "Eng:  Director David Jacobson gives Dahmer a consideration that the murderer never game his victims .\n",
            "czech:  Duvall is strong as always .\n",
            "Eng:  Duvall is strong as always .\n",
            "czech:  Easily the most thoughtful fictional examination of the root causes of anti-Semitism ever seen on screen .\n",
            "Eng:  Easily the most thoughtful fictional examination of the root causes of anti-Semitism ever seen on screen .\n",
            "czech:  Efficient , suitably anonymous chiller .\n",
            "Eng:  Efficient , suitably anonymous chiller .\n",
            "czech:  Elegant , mannered and teasing .\n",
            "Eng:  Elegant , mannered and teasing .\n",
            "czech:  Enough may pander to our basest desires for payback , but unlike many revenge fantasies , it ultimately delivers .\n",
            "Eng:  Enough may pander to our basest desires for payback , but unlike many revenge fantasies , it ultimately delivers .\n",
            "czech:  Even if you do n't know the band or the album 's songs by heart , you will enjoy seeing how both evolve , and you will also learn a good deal about the state of the music business in the 21st Century .\n",
            "Eng:  Even if you do n't know the band or the album 's songs by heart , you will enjoy seeing how both evolve , and you will also learn a good deal about the state of the music business in the 21st Century .\n",
            "czech:  Even if you do n't understand what on earth is going on , this is a movie that will stimulate hours of post viewing discussion , if only to be reminded of who did what to whom and why .\n",
            "Eng:  Even if you do n't understand what on earth is going on , this is a movie that will stimulate hours of post viewing discussion , if only to be reminded of who did what to whom and why .\n",
            "czech:  Even the digressions are funny .\n",
            "Eng:  Even the digressions are funny .\n",
            "czech:  Evokes a palpable sense of disconnection , made all the more poignant by the incessant use of cell phones .\n",
            "Eng:  Evokes a palpable sense of disconnection , made all the more poignant by the incessant use of cell phones .\n",
            "czech:  Executed with such gentle but insistent sincerity , with such good humor and appreciation of the daily grind that only the most hardhearted Scrooge could fail to respond .\n",
            "Eng:  Executed with such gentle but insistent sincerity , with such good humor and appreciation of the daily grind that only the most hardhearted Scrooge could fail to respond .\n",
            "czech:  Extremely well acted by the four primary actors , this is a seriously intended movie that is not easily forgotten .\n",
            "Eng:  Extremely well acted by the four primary actors , this is a seriously intended movie that is not easily forgotten .\n",
            "czech:  Eyre is on his way to becoming the American Indian Spike Lee .\n",
            "Eng:  Eyre is on his way to becoming the American Indian Spike Lee .\n",
            "czech:  Familiar but utterly delightful .\n",
            "Eng:  Familiar but utterly delightful .\n",
            "czech:  Family portrait of need , neurosis and nervy negativity is a rare treat that shows the promise of digital filmmaking .\n",
            "Eng:  Family portrait of need , neurosis and nervy negativity is a rare treat that shows the promise of digital filmmaking .\n",
            "czech:  Far From Heaven is a dazzling conceptual feat , but more than that , it 's a work of enthralling drama .\n",
            "Eng:  Far From Heaven is a dazzling conceptual feat , but more than that , it 's a work of enthralling drama .\n",
            "czech:  Filled with honest performances and exceptional detail , Baran is a gentle film with dramatic punch , a haunting ode to humanity .\n",
            "Eng:  Filled with honest performances and exceptional detail , Baran is a gentle film with dramatic punch , a haunting ode to humanity .\n",
            "czech:  Films about loss , grief and recovery are pretty valuable these days .\n",
            "Eng:  Films about loss , grief and recovery are pretty valuable these days .\n",
            "czech:  Flawed , but worth seeing for Ambrose 's performance .\n",
            "Eng:  Flawed , but worth seeing for Ambrose 's performance .\n",
            "czech:  For devotees of French cinema , Safe Conduct is so rich with period minutiae it 's like dying and going to celluloid heaven .\n",
            "Eng:  For devotees of French cinema , Safe Conduct is so rich with period minutiae it 's like dying and going to celluloid heaven .\n",
            "czech:  For his first attempt at film noir , Spielberg presents a fascinating but flawed look at the near future .\n",
            "Eng:  For his first attempt at film noir , Spielberg presents a fascinating but flawed look at the near future .\n",
            "czech:  For most of the distance the picture provides a satisfyingly unsettling ride into the dark places of our national psyche .\n",
            "Eng:  For most of the distance the picture provides a satisfyingly unsettling ride into the dark places of our national psyche .\n",
            "czech:  Funny , somber , absurd , and , finally , achingly sad , Bartleby is a fine , understated piece of filmmaking .\n",
            "Eng:  Funny , somber , absurd , and , finally , achingly sad , Bartleby is a fine , understated piece of filmmaking .\n",
            "czech:  Gorgeous scenes , masterful performances , but the sickly sweet gender normative narrative left an acrid test in this gourmet 's mouth .\n",
            "Eng:  Gorgeous scenes , masterful performances , but the sickly sweet gender normative narrative left an acrid test in this gourmet 's mouth .\n",
            "czech:  Happily stays close to the ground in a spare and simple manner and does n't pummel us with phony imagery or music .\n",
            "Eng:  Happily stays close to the ground in a spare and simple manner and does n't pummel us with phony imagery or music .\n",
            "czech:  Hardly an objective documentary , but it 's great cinematic polemic ... love Moore or loathe him , you 've got to admire ... the intensity with which he 's willing to express his convictions .\n",
            "Eng:  Hardly an objective documentary , but it 's great cinematic polemic ... love Moore or loathe him , you 've got to admire ... the intensity with which he 's willing to express his convictions .\n",
            "czech:  Has a certain ghoulish fascination , and generates a fair amount of B-movie excitement .\n",
            "Eng:  Has a certain ghoulish fascination , and generates a fair amount of B-movie excitement .\n",
            "czech:  He allows his cast members to make creative contributions to the story and dialogue .\n",
            "Eng:  He allows his cast members to make creative contributions to the story and dialogue .\n",
            "czech:  Heaven is a haunting dramatization of a couple 's moral ascension .\n",
            "Eng:  Heaven is a haunting dramatization of a couple 's moral ascension .\n",
            "czech:  Helps to remind the First World that HIV\\/AIDS is far from being yesterday 's news .\n",
            "Eng:  Helps to remind the First World that HIV\\/AIDS is far from being yesterday 's news .\n",
            "czech:  High Crimes knows the mistakes that bad movies make and is determined not to make them , and maybe that is nobility of a sort .\n",
            "Eng:  High Crimes knows the mistakes that bad movies make and is determined not to make them , and maybe that is nobility of a sort .\n",
            "czech:  High Crimes steals so freely from other movies and combines enough disparate types of films that it ca n't help but engage an audience .\n",
            "Eng:  High Crimes steals so freely from other movies and combines enough disparate types of films that it ca n't help but engage an audience .\n",
            "czech:  Hoffman 's performance is authentic to the core of his being .\n",
            "Eng:  Hoffman 's performance is authentic to the core of his being .\n",
            "czech:  Hollywood Ending is not show-stoppingly hilarious , but scathingly witty nonetheless .\n",
            "Eng:  Hollywood Ending is not show-stoppingly hilarious , but scathingly witty nonetheless .\n",
            "czech:  Huppert 's show to steal and she makes a meal of it , channeling Kathy Baker 's creepy turn as the repressed mother on Boston Public just as much as 8 Women 's Augustine .\n",
            "Eng:  Huppert 's show to steal and she makes a meal of it , channeling Kathy Baker 's creepy turn as the repressed mother on Boston Public just as much as 8 Women 's Augustine .\n",
            "czech:  I 've never bought from telemarketers , but I bought this movie .\n",
            "Eng:  I 've never bought from telemarketers , but I bought this movie .\n",
            "czech:  I encourage young and old alike to go see this unique and entertaining twist on the classic whale 's tale -- you wo n't be sorry !\n",
            "Eng:  I encourage young and old alike to go see this unique and entertaining twist on the classic whale 's tale -- you wo n't be sorry !\n",
            "czech:  I found The Ring moderately absorbing , largely for its elegantly colorful look and sound .\n",
            "Eng:  I found The Ring moderately absorbing , largely for its elegantly colorful look and sound .\n",
            "czech:  I liked About Schmidt a lot , but I have a feeling that I would have liked it much more if Harry & Tonto never existed .\n",
            "Eng:  I liked About Schmidt a lot , but I have a feeling that I would have liked it much more if Harry & Tonto never existed .\n",
            "czech:  I liked this film a lot ...\n",
            "Eng:  I liked this film a lot ...\n",
            "czech:  I loved this film .\n",
            "Eng:  I loved this film .\n",
            "czech:  I stopped thinking about how good it all was , and started doing nothing but reacting to it - feeling a part of its grand locations , thinking urgently as the protagonists struggled , feeling at the mercy of its inventiveness , gasping at its visual delights .\n",
            "Eng:  I stopped thinking about how good it all was , and started doing nothing but reacting to it - feeling a part of its grand locations , thinking urgently as the protagonists struggled , feeling at the mercy of its inventiveness , gasping at its visual delights .\n",
            "czech:  I thought the relationships were wonderful , the comedy was funny , and the love ` real ' .\n",
            "Eng:  I thought the relationships were wonderful , the comedy was funny , and the love ` real ' .\n",
            "czech:  I will be .\n",
            "Eng:  I will be .\n",
            "czech:  If Ayurveda can help us return to a sane regimen of eating , sleeping and stress-reducing contemplation , it is clearly a good thing .\n",
            "Eng:  If Ayurveda can help us return to a sane regimen of eating , sleeping and stress-reducing contemplation , it is clearly a good thing .\n",
            "czech:  If there 's no art here , it 's still a good yarn -- which is nothing to sneeze at these days .\n",
            "Eng:  If there 's no art here , it 's still a good yarn -- which is nothing to sneeze at these days .\n",
            "czech:  If you 're a fan of the series you 'll love it and probably want to see it twice .\n",
            "Eng:  If you 're a fan of the series you 'll love it and probably want to see it twice .\n",
            "czech:  If you 're as happy listening to movies as you are watching them , and the slow parade of human frailty fascinates you , then you 're at the right film .\n",
            "Eng:  If you 're as happy listening to movies as you are watching them , and the slow parade of human frailty fascinates you , then you 're at the right film .\n",
            "czech:  If you 're looking for something new and hoping for something entertaining , you 're in luck .\n",
            "Eng:  If you 're looking for something new and hoping for something entertaining , you 're in luck .\n",
            "czech:  If you 're willing to have fun with it , you wo n't feel cheated by the high infidelity of Unfaithful .\n",
            "Eng:  If you 're willing to have fun with it , you wo n't feel cheated by the high infidelity of Unfaithful .\n",
            "czech:  If you come from a family that eats , meddles , argues , laughs , kibbitzes and fights together , then go see this delightful comedy .\n",
            "Eng:  If you come from a family that eats , meddles , argues , laughs , kibbitzes and fights together , then go see this delightful comedy .\n",
            "czech:  Imperfect ?\n",
            "Eng:  Imperfect ?\n",
            "czech:  In The Pianist , Polanski is saying what he has long wanted to say , confronting the roots of his own preoccupations and obsessions , and he allows nothing to get in the way .\n",
            "Eng:  In The Pianist , Polanski is saying what he has long wanted to say , confronting the roots of his own preoccupations and obsessions , and he allows nothing to get in the way .\n",
            "czech:  In addition to Hoffman 's powerful acting clinic , this is that rare drama that offers a thoughtful and rewarding glimpse into the sort of heartache everyone has felt , or will feel someday .\n",
            "Eng:  In addition to Hoffman 's powerful acting clinic , this is that rare drama that offers a thoughtful and rewarding glimpse into the sort of heartache everyone has felt , or will feel someday .\n",
            "czech:  In all fairness , I must report that the children of varying ages in my audience never coughed , fidgeted or romped up and down the aisles for bathroom breaks .\n",
            "Eng:  In all fairness , I must report that the children of varying ages in my audience never coughed , fidgeted or romped up and down the aisles for bathroom breaks .\n",
            "czech:  In its dry and forceful way , it delivers the same message as Jiri Menzel 's Closely Watched Trains and Danis Tanovic 's No Man 's Land .\n",
            "Eng:  In its dry and forceful way , it delivers the same message as Jiri Menzel 's Closely Watched Trains and Danis Tanovic 's No Man 's Land .\n",
            "czech:  In the disturbingly involving family dysfunctional drama How I Killed My Father , French director Anne Fontaine delivers an inspired portrait of male-ridden angst and the emotional blockage that accompanies this human condition\n",
            "Eng:  In the disturbingly involving family dysfunctional drama How I Killed My Father , French director Anne Fontaine delivers an inspired portrait of male-ridden angst and the emotional blockage that accompanies this human condition\n",
            "czech:  Informative , intriguing , observant , often touching ... gives a human face to what 's often discussed in purely abstract terms .\n",
            "Eng:  Informative , intriguing , observant , often touching ... gives a human face to what 's often discussed in purely abstract terms .\n",
            "czech:  It 's Burns ' visuals , characters and his punchy dialogue , not his plot , that carry waydowntown .\n",
            "Eng:  It 's Burns ' visuals , characters and his punchy dialogue , not his plot , that carry waydowntown .\n",
            "czech:  It 's a clear-eyed portrait of an intensely lived time , filled with nervous energy , moral ambiguity and great uncertainties .\n",
            "Eng:  It 's a clear-eyed portrait of an intensely lived time , filled with nervous energy , moral ambiguity and great uncertainties .\n",
            "czech:  It 's a day at the beach -- with air conditioning and popcorn .\n",
            "Eng:  It 's a day at the beach -- with air conditioning and popcorn .\n",
            "czech:  It 's a diverting enough hour-and-a-half for the family audience .\n",
            "Eng:  It 's a diverting enough hour-and-a-half for the family audience .\n",
            "czech:  It 's a rare window on an artistic collaboration .\n",
            "Eng:  It 's a rare window on an artistic collaboration .\n",
            "czech:  It 's a satisfying summer blockbuster and worth a look .\n",
            "Eng:  It 's a satisfying summer blockbuster and worth a look .\n",
            "czech:  It 's a sweet , laugh-a-minute crowd pleaser that lifts your spirits as well as the corners of your mouth .\n",
            "Eng:  It 's a sweet , laugh-a-minute crowd pleaser that lifts your spirits as well as the corners of your mouth .\n",
            "czech:  It 's a technically superb film , shining with all the usual Spielberg flair , expertly utilizing the talents of his top-notch creative team .\n",
            "Eng:  It 's a technically superb film , shining with all the usual Spielberg flair , expertly utilizing the talents of his top-notch creative team .\n",
            "czech:  It 's been made with an innocent yet fervid conviction that our Hollywood has all but lost .\n",
            "Eng:  It 's been made with an innocent yet fervid conviction that our Hollywood has all but lost .\n",
            "czech:  It 's endlessly inventive , consistently intelligent and sickeningly savage .\n",
            "Eng:  It 's endlessly inventive , consistently intelligent and sickeningly savage .\n",
            "czech:  It 's good , hard-edged stuff , violent and a bit exploitative but also nicely done , morally alert and street-smart .\n",
            "Eng:  It 's good , hard-edged stuff , violent and a bit exploitative but also nicely done , morally alert and street-smart .\n",
            "czech:  It 's not a great monster movie .\n",
            "Eng:  It 's not a great monster movie .\n",
            "czech:  It 's only in fairy tales that princesses that are married for political reason live happily ever after .\n",
            "Eng:  It 's only in fairy tales that princesses that are married for political reason live happily ever after .\n",
            "czech:  It 's the filmmakers ' post-camp comprehension of what made old-time B movies good-bad that makes Eight Legged Freaks a perfectly entertaining summer diversion .\n",
            "Eng:  It 's the filmmakers ' post-camp comprehension of what made old-time B movies good-bad that makes Eight Legged Freaks a perfectly entertaining summer diversion .\n",
            "czech:  It 's the perfect star vehicle for Grant , allowing him to finally move away from his usual bumbling , tongue-tied screen persona .\n",
            "Eng:  It 's the perfect star vehicle for Grant , allowing him to finally move away from his usual bumbling , tongue-tied screen persona .\n",
            "czech:  It 's tough to watch , but it 's a fantastic movie .\n",
            "Eng:  It 's tough to watch , but it 's a fantastic movie .\n",
            "czech:  It also shows how deeply felt emotions can draw people together across the walls that might otherwise separate them .\n",
            "Eng:  It also shows how deeply felt emotions can draw people together across the walls that might otherwise separate them .\n",
            "czech:  It celebrates the group 's playful spark of nonconformity , glancing vividly back at what Hibiscus grandly called his ` angels of light . '\n",
            "Eng:  It celebrates the group 's playful spark of nonconformity , glancing vividly back at what Hibiscus grandly called his ` angels of light . '\n",
            "czech:  It challenges , this nervy oddity , like modern art should .\n",
            "Eng:  It challenges , this nervy oddity , like modern art should .\n",
            "czech:  It does give a taste of the Burning Man ethos , an appealing blend of counter-cultural idealism and hedonistic creativity .\n",
            "Eng:  It does give a taste of the Burning Man ethos , an appealing blend of counter-cultural idealism and hedonistic creativity .\n",
            "czech:  It has its faults , but it is a kind , unapologetic , sweetheart of a movie , and Mandy Moore leaves a positive impression .\n",
            "Eng:  It has its faults , but it is a kind , unapologetic , sweetheart of a movie , and Mandy Moore leaves a positive impression .\n",
            "czech:  It has more than a few moments that are insightful enough to be fondly remembered in the endlessly challenging maze of moviegoing .\n",
            "Eng:  It has more than a few moments that are insightful enough to be fondly remembered in the endlessly challenging maze of moviegoing .\n",
            "czech:  It is a testament of quiet endurance , of common concern , of reconciled survival .\n",
            "Eng:  It is a testament of quiet endurance , of common concern , of reconciled survival .\n",
            "czech:  It is also a testament to the integrity and vision of the band .\n",
            "Eng:  It is also a testament to the integrity and vision of the band .\n",
            "czech:  It is also beautifully acted .\n",
            "Eng:  It is also beautifully acted .\n",
            "czech:  It is definitely worth seeing .\n",
            "Eng:  It is definitely worth seeing .\n",
            "czech:  It is most remarkable not because of its epic scope , but because of the startling intimacy it achieves despite that breadth .\n",
            "Eng:  It is most remarkable not because of its epic scope , but because of the startling intimacy it achieves despite that breadth .\n",
            "czech:  It is n't that the picture is unfamiliar , but that it manages to find new avenues of discourse on old problems .\n",
            "Eng:  It is n't that the picture is unfamiliar , but that it manages to find new avenues of discourse on old problems .\n",
            "czech:  It is sentimental but feels free to offend , is analytical and then surrenders to the illogic of its characters , is about grief and yet permits laughter .\n",
            "Eng:  It is sentimental but feels free to offend , is analytical and then surrenders to the illogic of its characters , is about grief and yet permits laughter .\n",
            "czech:  It made me want to get made-up and go see this movie with my sisters .\n",
            "Eng:  It made me want to get made-up and go see this movie with my sisters .\n",
            "czech:  It makes compelling , provocative and prescient viewing .\n",
            "Eng:  It makes compelling , provocative and prescient viewing .\n",
            "czech:  It makes you believe the cast and crew thoroughly enjoyed themselves and believed in their small-budget film .\n",
            "Eng:  It makes you believe the cast and crew thoroughly enjoyed themselves and believed in their small-budget film .\n",
            "czech:  It may be a somewhat backhanded compliment to say that the film makes the viewer feel like the movie 's various victimized audience members after a while , but it also happens to be the movie 's most admirable quality\n",
            "Eng:  It may be a somewhat backhanded compliment to say that the film makes the viewer feel like the movie 's various victimized audience members after a while , but it also happens to be the movie 's most admirable quality\n",
            "czech:  Its sheer dynamism is infectious .\n",
            "Eng:  Its sheer dynamism is infectious .\n",
            "czech:  Jackson and co have brought back the value and respect for the term epic cinema .\n",
            "Eng:  Jackson and co have brought back the value and respect for the term epic cinema .\n",
            "czech:  Jacquot 's strategy allows his cast the benefit of being able to give full performances ... while demonstrating vividly that the beauty and power of the opera reside primarily in the music itself .\n",
            "Eng:  Jacquot 's strategy allows his cast the benefit of being able to give full performances ... while demonstrating vividly that the beauty and power of the opera reside primarily in the music itself .\n",
            "czech:  Jae-eun Jeong 's Take Care of My Cat brings a beguiling freshness to a coming-of-age story with such a buoyant , expressive flow of images that it emerges as another key contribution to the flowering of the South Korean cinema .\n",
            "Eng:  Jae-eun Jeong 's Take Care of My Cat brings a beguiling freshness to a coming-of-age story with such a buoyant , expressive flow of images that it emerges as another key contribution to the flowering of the South Korean cinema .\n",
            "czech:  Jeffrey Tambor 's performance as the intelligent jazz-playing exterminator is Oscar-worthy .\n",
            "Eng:  Jeffrey Tambor 's performance as the intelligent jazz-playing exterminator is Oscar-worthy .\n",
            "czech:  Just about the best straight-up , old-school horror film of the last 15 years .\n",
            "Eng:  Just about the best straight-up , old-school horror film of the last 15 years .\n",
            "czech:  Just about the surest bet for an all-around good time at the movies this summer .\n",
            "Eng:  Just about the surest bet for an all-around good time at the movies this summer .\n",
            "czech:  K-19 : The Widowmaker is derivative , overlong , and bombastic -- yet surprisingly entertaining .\n",
            "Eng:  K-19 : The Widowmaker is derivative , overlong , and bombastic -- yet surprisingly entertaining .\n",
            "czech:  Knows how to make our imagination wonder .\n",
            "Eng:  Knows how to make our imagination wonder .\n",
            "czech:  Laced with liberal doses of dark humor , gorgeous exterior photography , and a stable-full of solid performances , No Such Thing is a fascinating little tale .\n",
            "Eng:  Laced with liberal doses of dark humor , gorgeous exterior photography , and a stable-full of solid performances , No Such Thing is a fascinating little tale .\n",
            "czech:  Lawrence plumbs personal tragedy and also the human comedy .\n",
            "Eng:  Lawrence plumbs personal tragedy and also the human comedy .\n",
            "czech:  Leguizamo and Jones are both excellent and the rest of the cast is uniformly superb .\n",
            "Eng:  Leguizamo and Jones are both excellent and the rest of the cast is uniformly superb .\n",
            "czech:  Like the original , this version is raised a few notches above kiddie fantasy pablum by Allen 's astringent wit .\n",
            "Eng:  Like the original , this version is raised a few notches above kiddie fantasy pablum by Allen 's astringent wit .\n",
            "czech:  Lookin ' for sin , American-style ?\n",
            "Eng:  Lookin ' for sin , American-style ?\n",
            "czech:  Maelstrom is strange and compelling , engrossing and different , a moral tale with a twisted sense of humor .\n",
            "Eng:  Maelstrom is strange and compelling , engrossing and different , a moral tale with a twisted sense of humor .\n",
            "czech:  Malcolm McDowell is cool .\n",
            "Eng:  Malcolm McDowell is cool .\n",
            "czech:  Maybe Thomas Wolfe was right : You ca n't go home again .\n",
            "Eng:  Maybe Thomas Wolfe was right : You ca n't go home again .\n",
            "czech:  Measured against practically any like-themed film other than its Oscar-sweeping franchise predecessor The Silence of the Lambs , Red Dragon rates as an exceptional thriller .\n",
            "Eng:  Measured against practically any like-themed film other than its Oscar-sweeping franchise predecessor The Silence of the Lambs , Red Dragon rates as an exceptional thriller .\n",
            "czech:  Meeting , even exceeding expectations , it 's the best sequel since The Empire Strikes Back ... a majestic achievement , an epic of astonishing grandeur and surprising emotional depth .\n",
            "Eng:  Meeting , even exceeding expectations , it 's the best sequel since The Empire Strikes Back ... a majestic achievement , an epic of astonishing grandeur and surprising emotional depth .\n",
            "czech:  Melodrama with a message .\n",
            "Eng:  Melodrama with a message .\n",
            "czech:  Methodical , measured , and gently tedious in its comedy , Secret Ballot is a purposefully reductive movie -- which may be why it 's so successful at lodging itself in the brain .\n",
            "Eng:  Methodical , measured , and gently tedious in its comedy , Secret Ballot is a purposefully reductive movie -- which may be why it 's so successful at lodging itself in the brain .\n",
            "czech:  Meyjes ' provocative film might be called an example of the haphazardness of evil .\n",
            "Eng:  Meyjes ' provocative film might be called an example of the haphazardness of evil .\n",
            "czech:  Miller tells this very compelling tale with little fuss or noise , expertly plucking tension from quiet .\n",
            "Eng:  Miller tells this very compelling tale with little fuss or noise , expertly plucking tension from quiet .\n",
            "czech:  Miyazaki is one of world cinema 's most wondrously gifted artists and storytellers .\n",
            "Eng:  Miyazaki is one of world cinema 's most wondrously gifted artists and storytellers .\n",
            "czech:  Moonlight Mile gives itself the freedom to feel contradictory things .\n",
            "Eng:  Moonlight Mile gives itself the freedom to feel contradictory things .\n",
            "czech:  More timely than its director could ever have dreamed , this quietly lyrical tale probes the ambiguous welcome extended by Iran to the Afghani refugees who streamed across its borders , desperate for work and food .\n",
            "Eng:  More timely than its director could ever have dreamed , this quietly lyrical tale probes the ambiguous welcome extended by Iran to the Afghani refugees who streamed across its borders , desperate for work and food .\n",
            "czech:  Much of this slick and sprightly CGI feature is sufficiently funny to amuse even the most resolutely unreligious parents who escort their little ones to megaplex screenings .\n",
            "Eng:  Much of this slick and sprightly CGI feature is sufficiently funny to amuse even the most resolutely unreligious parents who escort their little ones to megaplex screenings .\n",
            "czech:  Nair does n't treat the issues lightly .\n",
            "Eng:  Nair does n't treat the issues lightly .\n",
            "czech:  No , it 's not as single-minded as John Carpenter 's original , but it 's sure a lot smarter and more unnerving than the sequels .\n",
            "Eng:  No , it 's not as single-minded as John Carpenter 's original , but it 's sure a lot smarter and more unnerving than the sequels .\n",
            "czech:  Not everyone will welcome or accept The Trials of Henry Kissinger as faithful portraiture , but few can argue that the debate it joins is a necessary and timely one .\n",
            "Eng:  Not everyone will welcome or accept The Trials of Henry Kissinger as faithful portraiture , but few can argue that the debate it joins is a necessary and timely one .\n",
            "czech:  Not only a reminder of how they used to make movies , but also how they sometimes still can be made .\n",
            "Eng:  Not only a reminder of how they used to make movies , but also how they sometimes still can be made .\n",
            "czech:  Old people will love this movie , and I mean that in the nicest possible way : Last Orders will touch the heart of anyone old enough to have earned a 50-year friendship .\n",
            "Eng:  Old people will love this movie , and I mean that in the nicest possible way : Last Orders will touch the heart of anyone old enough to have earned a 50-year friendship .\n",
            "czech:  On the Granger Movie Gauge of 1 to 10 , The Powerpuff Girls is a fast , frenetic , funny , even punny 6 -- aimed specifically at a grade-school audience .\n",
            "Eng:  On the Granger Movie Gauge of 1 to 10 , The Powerpuff Girls is a fast , frenetic , funny , even punny 6 -- aimed specifically at a grade-school audience .\n",
            "czech:  On the surface a silly comedy , Scotland , PA would be forgettable if it were n't such a clever adaptation of the bard 's tragic play .\n",
            "Eng:  On the surface a silly comedy , Scotland , PA would be forgettable if it were n't such a clever adaptation of the bard 's tragic play .\n",
            "czech:  Once the downward spiral comes to pass , Auto Focus bears out as your typical junkie opera ...\n",
            "Eng:  Once the downward spiral comes to pass , Auto Focus bears out as your typical junkie opera ...\n",
            "czech:  One Hour Photo may seem disappointing in its generalities , but it 's the little nuances that perhaps had to escape from director Mark Romanek 's self-conscious scrutiny to happen , that finally get under your skin .\n",
            "Eng:  One Hour Photo may seem disappointing in its generalities , but it 's the little nuances that perhaps had to escape from director Mark Romanek 's self-conscious scrutiny to happen , that finally get under your skin .\n",
            "czech:  One feels the dimming of a certain ambition , but in its place a sweetness , clarity and emotional openness that recalls the classics of early Italian neorealism .\n",
            "Eng:  One feels the dimming of a certain ambition , but in its place a sweetness , clarity and emotional openness that recalls the classics of early Italian neorealism .\n",
            "czech:  One of the best silly horror movies of recent memory , with some real shocks in store for unwary viewers .\n",
            "Eng:  One of the best silly horror movies of recent memory , with some real shocks in store for unwary viewers .\n",
            "czech:  One of the most gloriously unsubtle and adrenalized extreme shockers since The Evil Dead .\n",
            "Eng:  One of the most gloriously unsubtle and adrenalized extreme shockers since The Evil Dead .\n",
            "czech:  Opening with some contrived banter , cliches and some loose ends , the screenplay only comes into its own in the second half .\n",
            "Eng:  Opening with some contrived banter , cliches and some loose ends , the screenplay only comes into its own in the second half .\n",
            "czech:  Others , more attuned to the anarchist maxim that ` the urge to destroy is also a creative urge ' , or more willing to see with their own eyes , will find Morrison 's iconoclastic uses of technology to be liberating .\n",
            "Eng:  Others , more attuned to the anarchist maxim that ` the urge to destroy is also a creative urge ' , or more willing to see with their own eyes , will find Morrison 's iconoclastic uses of technology to be liberating .\n",
            "czech:  Pacino is the best he 's been in years and Keener is marvelous .\n",
            "Eng:  Pacino is the best he 's been in years and Keener is marvelous .\n",
            "czech:  Passionate , irrational , long-suffering but cruel as a tarantula , Helga figures prominently in this movie , and helps keep the proceedings as funny for grown-ups as for rugrats .\n",
            "Eng:  Passionate , irrational , long-suffering but cruel as a tarantula , Helga figures prominently in this movie , and helps keep the proceedings as funny for grown-ups as for rugrats .\n",
            "czech:  Perfectly pitched between comedy and tragedy , hope and despair , About Schmidt instead comes far closer than many movies to expressing the way many of us live -- someplace between consuming self-absorption and insistently demanding otherness .\n",
            "Eng:  Perfectly pitched between comedy and tragedy , hope and despair , About Schmidt instead comes far closer than many movies to expressing the way many of us live -- someplace between consuming self-absorption and insistently demanding otherness .\n",
            "czech:  Perhaps the best sports movie I 've ever seen .\n",
            "Eng:  Perhaps the best sports movie I 've ever seen .\n",
            "czech:  Plays out with a dogged and eventually winning squareness that would make it the darling of many a kids-and-family-oriented cable channel .\n",
            "Eng:  Plays out with a dogged and eventually winning squareness that would make it the darling of many a kids-and-family-oriented cable channel .\n",
            "czech:  Poetry in motion captured on film .\n",
            "Eng:  Poetry in motion captured on film .\n",
            "czech:  Poignant and delicately complex .\n",
            "Eng:  Poignant and delicately complex .\n",
            "czech:  Predictable storyline and by-the-book scripting is all but washed away by sumptuous ocean visuals and the cinematic stylings of director John Stockwell .\n",
            "Eng:  Predictable storyline and by-the-book scripting is all but washed away by sumptuous ocean visuals and the cinematic stylings of director John Stockwell .\n",
            "czech:  Probably the best case for Christianity since Chesterton and Lewis .\n",
            "Eng:  Probably the best case for Christianity since Chesterton and Lewis .\n",
            "czech:  Proves mainly that South Korean filmmakers can make undemanding action movies with all the alacrity of their Hollywood counterparts .\n",
            "Eng:  Proves mainly that South Korean filmmakers can make undemanding action movies with all the alacrity of their Hollywood counterparts .\n",
            "czech:  Quitting delivers a sucker-punch , and its impact is all the greater beause director Zhang 's last film , the cuddly Shower , was a non-threatening multi-character piece centered around a public bath house .\n",
            "Eng:  Quitting delivers a sucker-punch , and its impact is all the greater beause director Zhang 's last film , the cuddly Shower , was a non-threatening multi-character piece centered around a public bath house .\n",
            "czech:  Rabbit-Proof Fence will probably make you angry .\n",
            "Eng:  Rabbit-Proof Fence will probably make you angry .\n",
            "czech:  Raimi and his team could n't have done any better in bringing the story of Spider-Man to the big screen .\n",
            "Eng:  Raimi and his team could n't have done any better in bringing the story of Spider-Man to the big screen .\n",
            "czech:  Real Women Have Curves wears its empowerment on its sleeve but even its worst harangues are easy to swallow thanks to remarkable performances by Ferrera and Ontiveros .\n",
            "Eng:  Real Women Have Curves wears its empowerment on its sleeve but even its worst harangues are easy to swallow thanks to remarkable performances by Ferrera and Ontiveros .\n",
            "czech:  Reveals how important our special talents can be when put in service of of others .\n",
            "Eng:  Reveals how important our special talents can be when put in service of of others .\n",
            "czech:  Rock solid family fun out of the gates , extremely imaginative through out , but wanes in the middle\n",
            "Eng:  Rock solid family fun out of the gates , extremely imaginative through out , but wanes in the middle\n",
            "czech:  Ryan Gosling ... is at 22 a powerful young actor .\n",
            "Eng:  Ryan Gosling ... is at 22 a powerful young actor .\n",
            "czech:  S1M0NE 's satire is not subtle , but it is effective .\n",
            "Eng:  S1M0NE 's satire is not subtle , but it is effective .\n",
            "czech:  Same song , second verse , coulda been better , but it coulda been worse .\n",
            "Eng:  Same song , second verse , coulda been better , but it coulda been worse .\n",
            "czech:  Shamelessly resorting to pee-related sight gags that might even cause Tom Green a grimace ; still , Myer 's energy and the silliness of it all eventually prevail\n",
            "Eng:  Shamelessly resorting to pee-related sight gags that might even cause Tom Green a grimace ; still , Myer 's energy and the silliness of it all eventually prevail\n",
            "czech:  Sharp edges and a deep vein of sadness run through its otherwise comic narrative .\n",
            "Eng:  Sharp edges and a deep vein of sadness run through its otherwise comic narrative .\n",
            "czech:  She allows each character to confront their problems openly and honestly .\n",
            "Eng:  She allows each character to confront their problems openly and honestly .\n",
            "czech:  Simultaneously heart-breaking and very funny , The Last Kiss is really all about performances .\n",
            "Eng:  Simultaneously heart-breaking and very funny , The Last Kiss is really all about performances .\n",
            "czech:  So purely enjoyable that you might not even notice it 's a fairly straightforward remake of Hollywood comedies such as Father of the Bride .\n",
            "Eng:  So purely enjoyable that you might not even notice it 's a fairly straightforward remake of Hollywood comedies such as Father of the Bride .\n",
            "czech:  Sparkles in its deft portrait of Tinseltown 's seasoned veterans of gossip , wealth , paranoia , and celebrityhood .\n",
            "Eng:  Sparkles in its deft portrait of Tinseltown 's seasoned veterans of gossip , wealth , paranoia , and celebrityhood .\n",
            "czech:  Stage director Sam Mendes showcases Tom Hanks as a depression era hit-man in this dark tale of revenge .\n",
            "Eng:  Stage director Sam Mendes showcases Tom Hanks as a depression era hit-man in this dark tale of revenge .\n",
            "czech:  Stands as one of the year 's most intriguing movie experiences , letting its imagery speak for it while it forces you to ponder anew what a movie can be .\n",
            "Eng:  Stands as one of the year 's most intriguing movie experiences , letting its imagery speak for it while it forces you to ponder anew what a movie can be .\n",
            "czech:  Steven Spielberg brings us another masterpiece\n",
            "Eng:  Steven Spielberg brings us another masterpiece\n",
            "czech:  Stevens ' vibrant creative instincts are the difference between this and countless other flicks about guys and dolls .\n",
            "Eng:  Stevens ' vibrant creative instincts are the difference between this and countless other flicks about guys and dolls .\n",
            "czech:  Stevens has a flair for dialogue comedy , the film operates nicely off the element of surprise , and the large cast is solid .\n",
            "Eng:  Stevens has a flair for dialogue comedy , the film operates nicely off the element of surprise , and the large cast is solid .\n",
            "czech:  Strange , funny , twisted , brilliant and macabre .\n",
            "Eng:  Strange , funny , twisted , brilliant and macabre .\n",
            "czech:  Strange it is , but delightfully so .\n",
            "Eng:  Strange it is , but delightfully so .\n",
            "czech:  Strip it of all its excess debris , and you 'd have a 90-minute , four-star movie .\n",
            "Eng:  Strip it of all its excess debris , and you 'd have a 90-minute , four-star movie .\n",
            "czech:  Stuffed to the brim with ideas , American instigator Michael Moore 's film is a rambling examination of American gun culture that uses his usual modus operandi of crucifixion through juxtaposition .\n",
            "Eng:  Stuffed to the brim with ideas , American instigator Michael Moore 's film is a rambling examination of American gun culture that uses his usual modus operandi of crucifixion through juxtaposition .\n",
            "czech:  Succeeds only because Bullock and Grant were made to share the silver screen .\n",
            "Eng:  Succeeds only because Bullock and Grant were made to share the silver screen .\n",
            "czech:  Sweet and memorable film .\n",
            "Eng:  Sweet and memorable film .\n",
            "czech:  Thanks to confident filmmaking and a pair of fascinating performances , the way to that destination is a really special walk in the woods .\n",
            "Eng:  Thanks to confident filmmaking and a pair of fascinating performances , the way to that destination is a really special walk in the woods .\n",
            "czech:  The Four Feathers has rewards , from the exoticism of its seas of sand to the fierce grandeur of its sweeping battle scenes .\n",
            "Eng:  The Four Feathers has rewards , from the exoticism of its seas of sand to the fierce grandeur of its sweeping battle scenes .\n",
            "czech:  The Mothman Prophecies is best when illustrating the demons bedevilling the modern masculine journey .\n",
            "Eng:  The Mothman Prophecies is best when illustrating the demons bedevilling the modern masculine journey .\n",
            "czech:  The Pianist is Polanski 's best film .\n",
            "Eng:  The Pianist is Polanski 's best film .\n",
            "czech:  The Pianist is the film Roman Polanski may have been born to make .\n",
            "Eng:  The Pianist is the film Roman Polanski may have been born to make .\n",
            "czech:  The Saigon of 1952 is an uneasy mix of sensual delights and simmering violence , and The Quiet American brings us right into the center of that world .\n",
            "Eng:  The Saigon of 1952 is an uneasy mix of sensual delights and simmering violence , and The Quiet American brings us right into the center of that world .\n",
            "czech:  The best animated feature to hit theaters since Beauty and the Beast 11 years ago .\n",
            "Eng:  The best animated feature to hit theaters since Beauty and the Beast 11 years ago .\n",
            "czech:  The bodily function jokes are about what you 'd expect , but there are rich veins of funny stuff in this movie .\n",
            "Eng:  The bodily function jokes are about what you 'd expect , but there are rich veins of funny stuff in this movie .\n",
            "czech:  The casting of von Sydow ... is itself Intacto 's luckiest stroke .\n",
            "Eng:  The casting of von Sydow ... is itself Intacto 's luckiest stroke .\n",
            "czech:  The characters are complex and quirky , but entirely believable as the remarkable ensemble cast brings them to life .\n",
            "Eng:  The characters are complex and quirky , but entirely believable as the remarkable ensemble cast brings them to life .\n",
            "czech:  The charming result is Festival in Cannes .\n",
            "Eng:  The charming result is Festival in Cannes .\n",
            "czech:  The date movie that Franz Kafka would have made .\n",
            "Eng:  The date movie that Franz Kafka would have made .\n",
            "czech:  The director explores all three sides of his story with a sensitivity and an inquisitiveness reminiscent of Truffaut .\n",
            "Eng:  The director explores all three sides of his story with a sensitivity and an inquisitiveness reminiscent of Truffaut .\n",
            "czech:  The entire cast is extraordinarily good .\n",
            "Eng:  The entire cast is extraordinarily good .\n",
            "czech:  The entire movie establishes a wonderfully creepy mood .\n",
            "Eng:  The entire movie establishes a wonderfully creepy mood .\n",
            "czech:  The fact is that the screen is most alive when it seems most likely that Broomfield 's interviewees , or even himself , will not be for much longer .\n",
            "Eng:  The fact is that the screen is most alive when it seems most likely that Broomfield 's interviewees , or even himself , will not be for much longer .\n",
            "czech:  The fascination comes in the power of the Huston performance , which seems so larger than life and yet so fragile , and in the way the Ivan character accepts the news of his illness so quickly but still finds himself unable to react .\n",
            "Eng:  The fascination comes in the power of the Huston performance , which seems so larger than life and yet so fragile , and in the way the Ivan character accepts the news of his illness so quickly but still finds himself unable to react .\n",
            "czech:  The film 's intimate camera work and searing performances pull us deep into the girls ' confusion and pain as they struggle tragically to comprehend the chasm of knowledge that 's opened between them .\n",
            "Eng:  The film 's intimate camera work and searing performances pull us deep into the girls ' confusion and pain as they struggle tragically to comprehend the chasm of knowledge that 's opened between them .\n",
            "czech:  The film 's sense of imagery gives it a terrible strength , but it 's propelled by the acting .\n",
            "Eng:  The film 's sense of imagery gives it a terrible strength , but it 's propelled by the acting .\n",
            "czech:  The film 's strength is n't in its details , but in the larger picture it paints - of a culture in conflict with itself , with the thin veneer of nationalism that covers our deepest , media-soaked fears .\n",
            "Eng:  The film 's strength is n't in its details , but in the larger picture it paints - of a culture in conflict with itself , with the thin veneer of nationalism that covers our deepest , media-soaked fears .\n",
            "czech:  The film brilliantly shines on all the characters , as the direction is intelligently accomplished .\n",
            "Eng:  The film brilliantly shines on all the characters , as the direction is intelligently accomplished .\n",
            "czech:  The film exudes the urbane sweetness that Woody Allen seems to have bitterly forsaken .\n",
            "Eng:  The film exudes the urbane sweetness that Woody Allen seems to have bitterly forsaken .\n",
            "czech:  The film has a terrific look and Salma Hayek has a feel for the character at all stages of her life .\n",
            "Eng:  The film has a terrific look and Salma Hayek has a feel for the character at all stages of her life .\n",
            "czech:  The film has several strong performances .\n",
            "Eng:  The film has several strong performances .\n",
            "czech:  The film is a verbal duel between two gifted performers .\n",
            "Eng:  The film is a verbal duel between two gifted performers .\n",
            "czech:  The film is visually dazzling , the depicted events dramatic , funny and poignant .\n",
            "Eng:  The film is visually dazzling , the depicted events dramatic , funny and poignant .\n",
            "czech:  The film offers an intriguing what-if premise .\n",
            "Eng:  The film offers an intriguing what-if premise .\n",
            "czech:  The film sounds like the stuff of lurid melodrama , but what makes it interesting as a character study is the fact that the story is told from Paul 's perspective .\n",
            "Eng:  The film sounds like the stuff of lurid melodrama , but what makes it interesting as a character study is the fact that the story is told from Paul 's perspective .\n",
            "czech:  The film sparkles with the the wisdom and humor of its subjects .\n",
            "Eng:  The film sparkles with the the wisdom and humor of its subjects .\n",
            "czech:  The filmmakers want nothing else than to show us a good time , and in their cheap , B movie way , they succeed .\n",
            "Eng:  The filmmakers want nothing else than to show us a good time , and in their cheap , B movie way , they succeed .\n",
            "czech:  The funny thing is , I did n't mind all this contrived nonsense a bit .\n",
            "Eng:  The funny thing is , I did n't mind all this contrived nonsense a bit .\n",
            "czech:  The gentle comic treatment of adolescent sturm und drang should please fans of Chris Fuhrman 's posthumously published cult novel .\n",
            "Eng:  The gentle comic treatment of adolescent sturm und drang should please fans of Chris Fuhrman 's posthumously published cult novel .\n",
            "czech:  The hard-to-predict and absolutely essential chemistry between the down-to-earth Bullock and the nonchalant Grant proves to be sensational , and everything meshes in this elegant entertainment .\n",
            "Eng:  The hard-to-predict and absolutely essential chemistry between the down-to-earth Bullock and the nonchalant Grant proves to be sensational , and everything meshes in this elegant entertainment .\n",
            "czech:  The hot topics of the plot are relegated to the background -- a welcome step forward from the Sally Jesse Raphael atmosphere of films like Philadelphia and American Beauty .\n",
            "Eng:  The hot topics of the plot are relegated to the background -- a welcome step forward from the Sally Jesse Raphael atmosphere of films like Philadelphia and American Beauty .\n",
            "czech:  The humor and humanity of Monsoon Wedding are in perfect balance .\n",
            "Eng:  The humor and humanity of Monsoon Wedding are in perfect balance .\n",
            "czech:  The ingenuity that Parker displays in freshening the play is almost in a class with that of Wilde himself .\n",
            "Eng:  The ingenuity that Parker displays in freshening the play is almost in a class with that of Wilde himself .\n",
            "czech:  The large-frame IMAX camera lends itself beautifully to filming the teeming life on the reefs , making this gorgeous film a must for everyone from junior scientists to grown-up fish lovers .\n",
            "Eng:  The large-frame IMAX camera lends itself beautifully to filming the teeming life on the reefs , making this gorgeous film a must for everyone from junior scientists to grown-up fish lovers .\n",
            "czech:  The leaping story line , shaped by director Peter Kosminsky into sharp slivers and cutting impressions , shows all the signs of rich detail condensed into a few evocative images and striking character traits .\n",
            "Eng:  The leaping story line , shaped by director Peter Kosminsky into sharp slivers and cutting impressions , shows all the signs of rich detail condensed into a few evocative images and striking character traits .\n",
            "czech:  The limited sets and small confined and dark spaces also are homages to a classic low-budget film noir movie .\n",
            "Eng:  The limited sets and small confined and dark spaces also are homages to a classic low-budget film noir movie .\n",
            "czech:  The mark of a respectable summer blockbuster is one of two things : unadulterated thrills or genuine laughs .\n",
            "Eng:  The mark of a respectable summer blockbuster is one of two things : unadulterated thrills or genuine laughs .\n",
            "czech:  The modern-day royals have nothing on these guys when it comes to scandals .\n",
            "Eng:  The modern-day royals have nothing on these guys when it comes to scandals .\n",
            "czech:  The movie is pretty funny now and then without in any way demeaning its subjects .\n",
            "Eng:  The movie is pretty funny now and then without in any way demeaning its subjects .\n",
            "czech:  The movie is well done , but slow .\n",
            "Eng:  The movie is well done , but slow .\n",
            "czech:  The performances are amiable and committed , and the comedy more often than not hits the bullseye .\n",
            "Eng:  The performances are amiable and committed , and the comedy more often than not hits the bullseye .\n",
            "czech:  The performances are remarkable .\n",
            "Eng:  The performances are remarkable .\n",
            "czech:  The picture uses humor and a heartfelt conviction to tell a story about discovering your destination in life , but also acknowledging the places , and the people , from whence you came .\n",
            "Eng:  The picture uses humor and a heartfelt conviction to tell a story about discovering your destination in life , but also acknowledging the places , and the people , from whence you came .\n",
            "czech:  The pitch must have read like a discarded House Beautiful spread .\n",
            "Eng:  The pitch must have read like a discarded House Beautiful spread .\n",
            "czech:  The pleasures that it does afford may be enough to keep many moviegoers occupied amidst some of the more serious-minded concerns of other year-end movies .\n",
            "Eng:  The pleasures that it does afford may be enough to keep many moviegoers occupied amidst some of the more serious-minded concerns of other year-end movies .\n",
            "czech:  The production has been made with an enormous amount of affection , so we believe these characters love each other .\n",
            "Eng:  The production has been made with an enormous amount of affection , so we believe these characters love each other .\n",
            "czech:  The quirky drama touches the heart and the funnybone thanks to the energetic and always surprising performance by Rachel Griffiths .\n",
            "Eng:  The quirky drama touches the heart and the funnybone thanks to the energetic and always surprising performance by Rachel Griffiths .\n",
            "czech:  The real charm of this trifle is the deadpan comic face of its star , Jean Reno , who resembles Sly Stallone in a hot sake half-sleep .\n",
            "Eng:  The real charm of this trifle is the deadpan comic face of its star , Jean Reno , who resembles Sly Stallone in a hot sake half-sleep .\n",
            "czech:  The real triumphs in Igby come from Philippe , who makes Oliver far more interesting than the character 's lines would suggest , and Sarandon , who could n't be better as a cruel but weirdly likable WASP matron .\n",
            "Eng:  The real triumphs in Igby come from Philippe , who makes Oliver far more interesting than the character 's lines would suggest , and Sarandon , who could n't be better as a cruel but weirdly likable WASP matron .\n",
            "czech:  The result is more depressing than liberating , but it 's never boring .\n",
            "Eng:  The result is more depressing than liberating , but it 's never boring .\n",
            "czech:  The solid filmmaking and convincing characters makes this a high water mark for this genre .\n",
            "Eng:  The solid filmmaking and convincing characters makes this a high water mark for this genre .\n",
            "czech:  The touch is generally light enough and the performances , for the most part , credible .\n",
            "Eng:  The touch is generally light enough and the performances , for the most part , credible .\n",
            "czech:  The vistas are sweeping and the acting is far from painful .\n",
            "Eng:  The vistas are sweeping and the acting is far from painful .\n",
            "czech:  There 's back-stabbing , inter-racial desire and , most importantly , singing and dancing .\n",
            "Eng:  There 's back-stabbing , inter-racial desire and , most importantly , singing and dancing .\n",
            "czech:  There 's no reason to miss Interview with the Assassin\n",
            "Eng:  There 's no reason to miss Interview with the Assassin\n",
            "czech:  There 's plenty to enjoy -- in no small part thanks to Lau .\n",
            "Eng:  There 's plenty to enjoy -- in no small part thanks to Lau .\n",
            "czech:  There are no special effects , and no Hollywood endings .\n",
            "Eng:  There are no special effects , and no Hollywood endings .\n",
            "czech:  There is a certain sense of experimentation and improvisation to this film that may not always work , but it is nevertheless compelling .\n",
            "Eng:  There is a certain sense of experimentation and improvisation to this film that may not always work , but it is nevertheless compelling .\n",
            "czech:  There is a subversive element to this Disney cartoon , providing unexpected fizzability .\n",
            "Eng:  There is a subversive element to this Disney cartoon , providing unexpected fizzability .\n",
            "czech:  This English-language version ... does full honor to Miyazaki 's teeming and often unsettling landscape , and to the conflicted complexity of his characters .\n",
            "Eng:  This English-language version ... does full honor to Miyazaki 's teeming and often unsettling landscape , and to the conflicted complexity of his characters .\n",
            "czech:  This Orange has some juice , but it 's far from fresh-squeezed .\n",
            "Eng:  This Orange has some juice , but it 's far from fresh-squeezed .\n",
            "czech:  This beautifully animated epic is never dull .\n",
            "Eng:  This beautifully animated epic is never dull .\n",
            "czech:  This bracingly truthful antidote to Hollywood teenage movies that slather Clearasil over the blemishes of youth captures the combustible mixture of a chafing inner loneliness and desperate grandiosity that tend to characterize puberty .\n",
            "Eng:  This bracingly truthful antidote to Hollywood teenage movies that slather Clearasil over the blemishes of youth captures the combustible mixture of a chafing inner loneliness and desperate grandiosity that tend to characterize puberty .\n",
            "czech:  This breezy caper movie becomes a soulful , incisive meditation on the way we were , and the way we are .\n",
            "Eng:  This breezy caper movie becomes a soulful , incisive meditation on the way we were , and the way we are .\n",
            "czech:  This comic gem is as delightful as it is derivative .\n",
            "Eng:  This comic gem is as delightful as it is derivative .\n",
            "czech:  This familiar rise-and-fall tale is long on glamour and short on larger moralistic consequences , though it 's told with sharp ears and eyes for the tenor of the times .\n",
            "Eng:  This familiar rise-and-fall tale is long on glamour and short on larger moralistic consequences , though it 's told with sharp ears and eyes for the tenor of the times .\n",
            "czech:  This is a movie you can trust .\n",
            "Eng:  This is a movie you can trust .\n",
            "czech:  This masterfully calibrated psychological thriller thrives on its taut performances and creepy atmosphere even if the screenplay falls somewhat short .\n",
            "Eng:  This masterfully calibrated psychological thriller thrives on its taut performances and creepy atmosphere even if the screenplay falls somewhat short .\n",
            "czech:  This movie may not have the highest production values you 've ever seen , but it 's the work of an artist , one whose view of America , history and the awkwardness of human life is generous and deep .\n",
            "Eng:  This movie may not have the highest production values you 've ever seen , but it 's the work of an artist , one whose view of America , history and the awkwardness of human life is generous and deep .\n",
            "czech:  This story still seems timely and important .\n",
            "Eng:  This story still seems timely and important .\n",
            "czech:  This time , the hype is quieter , and while the movie is slightly less successful than the first , it 's still a rollicking good time for the most part .\n",
            "Eng:  This time , the hype is quieter , and while the movie is slightly less successful than the first , it 's still a rollicking good time for the most part .\n",
            "czech:  This version does justice both to Stevenson and to the sci-fi genre .\n",
            "Eng:  This version does justice both to Stevenson and to the sci-fi genre .\n",
            "(400, 2)\n"
          ],
          "name": "stdout"
        }
      ]
    },
    {
      "cell_type": "code",
      "metadata": {
        "colab": {
          "base_uri": "https://localhost:8080/",
          "height": 204
        },
        "id": "vEA9UDc5HSoF",
        "outputId": "69ef1da1-541f-4606-84bc-22d96d0fec00"
      },
      "source": [
        "train_data_1 = pd.concat([train_data,sentence_swap,sentence_delete,sentence_translated]).reset_index().drop(columns=['index'])\n",
        "train_data_1.head()"
      ],
      "execution_count": 29,
      "outputs": [
        {
          "output_type": "execute_result",
          "data": {
            "text/html": [
              "<div>\n",
              "<style scoped>\n",
              "    .dataframe tbody tr th:only-of-type {\n",
              "        vertical-align: middle;\n",
              "    }\n",
              "\n",
              "    .dataframe tbody tr th {\n",
              "        vertical-align: top;\n",
              "    }\n",
              "\n",
              "    .dataframe thead th {\n",
              "        text-align: right;\n",
              "    }\n",
              "</style>\n",
              "<table border=\"1\" class=\"dataframe\">\n",
              "  <thead>\n",
              "    <tr style=\"text-align: right;\">\n",
              "      <th></th>\n",
              "      <th>sentence</th>\n",
              "      <th>sentiment</th>\n",
              "    </tr>\n",
              "  </thead>\n",
              "  <tbody>\n",
              "    <tr>\n",
              "      <th>0</th>\n",
              "      <td>... a bland murder-on-campus yawner .</td>\n",
              "      <td>1.0</td>\n",
              "    </tr>\n",
              "    <tr>\n",
              "      <th>1</th>\n",
              "      <td>... the picture 's cleverness is ironically mu...</td>\n",
              "      <td>3.0</td>\n",
              "    </tr>\n",
              "    <tr>\n",
              "      <th>2</th>\n",
              "      <td>classic cinema served up with heart and humor</td>\n",
              "      <td>5.0</td>\n",
              "    </tr>\n",
              "    <tr>\n",
              "      <th>3</th>\n",
              "      <td>entertaining enough , but nothing new</td>\n",
              "      <td>2.0</td>\n",
              "    </tr>\n",
              "    <tr>\n",
              "      <th>4</th>\n",
              "      <td>insightfully written , delicately performed</td>\n",
              "      <td>5.0</td>\n",
              "    </tr>\n",
              "  </tbody>\n",
              "</table>\n",
              "</div>"
            ],
            "text/plain": [
              "                                            sentence  sentiment\n",
              "0              ... a bland murder-on-campus yawner .        1.0\n",
              "1  ... the picture 's cleverness is ironically mu...        3.0\n",
              "2      classic cinema served up with heart and humor        5.0\n",
              "3              entertaining enough , but nothing new        2.0\n",
              "4        insightfully written , delicately performed        5.0"
            ]
          },
          "metadata": {
            "tags": []
          },
          "execution_count": 29
        }
      ]
    },
    {
      "cell_type": "code",
      "metadata": {
        "colab": {
          "base_uri": "https://localhost:8080/"
        },
        "id": "BrHPxFFBIO6y",
        "outputId": "ff78309b-fd3b-4178-9296-23f0672ea370"
      },
      "source": [
        "train_data_1.shape"
      ],
      "execution_count": 30,
      "outputs": [
        {
          "output_type": "execute_result",
          "data": {
            "text/plain": [
              "(24751, 2)"
            ]
          },
          "metadata": {
            "tags": []
          },
          "execution_count": 30
        }
      ]
    },
    {
      "cell_type": "code",
      "metadata": {
        "colab": {
          "base_uri": "https://localhost:8080/"
        },
        "id": "2hKplABsIKX3",
        "outputId": "a8201be4-786d-45ca-94d1-6d95a10151c6"
      },
      "source": [
        "#train_data = train_data_1\n",
        "train_data_1.sentiment.value_counts()"
      ],
      "execution_count": 59,
      "outputs": [
        {
          "output_type": "execute_result",
          "data": {
            "text/plain": [
              "4.0    6855\n",
              "2.0    6292\n",
              "3.0    4695\n",
              "5.0    3817\n",
              "1.0    3092\n",
              "Name: sentiment, dtype: int64"
            ]
          },
          "metadata": {
            "tags": []
          },
          "execution_count": 59
        }
      ]
    },
    {
      "cell_type": "code",
      "metadata": {
        "colab": {
          "base_uri": "https://localhost:8080/",
          "height": 204
        },
        "id": "cA_t0QyWeBFo",
        "outputId": "a935185c-79a6-43a4-93e1-924a2f651f1c"
      },
      "source": [
        "new_sentence_delete_1 = train_data[train_data.sentiment==1.0].reset_index().drop(columns=['index'])\n",
        "new_sentence_delete_2 = train_data[train_data.sentiment==5.0].reset_index().drop(columns=['index'])\n",
        "new_sentence_delete_3 = train_data[train_data.sentiment==3.0].reset_index().drop(columns=['index'])\n",
        "new_sentence_delete = pd.concat([new_sentence_delete_1,new_sentence_delete_2,new_sentence_delete_3]).reset_index().drop(columns=['index'])\n",
        "new_sentence_delete.head()"
      ],
      "execution_count": 60,
      "outputs": [
        {
          "output_type": "execute_result",
          "data": {
            "text/html": [
              "<div>\n",
              "<style scoped>\n",
              "    .dataframe tbody tr th:only-of-type {\n",
              "        vertical-align: middle;\n",
              "    }\n",
              "\n",
              "    .dataframe tbody tr th {\n",
              "        vertical-align: top;\n",
              "    }\n",
              "\n",
              "    .dataframe thead th {\n",
              "        text-align: right;\n",
              "    }\n",
              "</style>\n",
              "<table border=\"1\" class=\"dataframe\">\n",
              "  <thead>\n",
              "    <tr style=\"text-align: right;\">\n",
              "      <th></th>\n",
              "      <th>sentence</th>\n",
              "      <th>sentiment</th>\n",
              "    </tr>\n",
              "  </thead>\n",
              "  <tbody>\n",
              "    <tr>\n",
              "      <th>0</th>\n",
              "      <td>... a bland murder-on-campus yawner .</td>\n",
              "      <td>1.0</td>\n",
              "    </tr>\n",
              "    <tr>\n",
              "      <th>1</th>\n",
              "      <td>A decided lack of spontaneity in its execution...</td>\n",
              "      <td>1.0</td>\n",
              "    </tr>\n",
              "    <tr>\n",
              "      <th>2</th>\n",
              "      <td>... the film 's considered approach to its sub...</td>\n",
              "      <td>1.0</td>\n",
              "    </tr>\n",
              "    <tr>\n",
              "      <th>3</th>\n",
              "      <td>A devastating indictment of unbridled greed an...</td>\n",
              "      <td>1.0</td>\n",
              "    </tr>\n",
              "    <tr>\n",
              "      <th>4</th>\n",
              "      <td>All comedy is subversive , but this unrelentin...</td>\n",
              "      <td>1.0</td>\n",
              "    </tr>\n",
              "  </tbody>\n",
              "</table>\n",
              "</div>"
            ],
            "text/plain": [
              "                                            sentence  sentiment\n",
              "0              ... a bland murder-on-campus yawner .        1.0\n",
              "1  A decided lack of spontaneity in its execution...        1.0\n",
              "2  ... the film 's considered approach to its sub...        1.0\n",
              "3  A devastating indictment of unbridled greed an...        1.0\n",
              "4  All comedy is subversive , but this unrelentin...        1.0"
            ]
          },
          "metadata": {
            "tags": []
          },
          "execution_count": 60
        }
      ]
    },
    {
      "cell_type": "code",
      "metadata": {
        "colab": {
          "base_uri": "https://localhost:8080/",
          "height": 204
        },
        "id": "rwk2jrxlh_Vo",
        "outputId": "1e06d29e-57f7-47df-8da6-a179560631ea"
      },
      "source": [
        "new_sentence_delete = delete(new_sentence_delete)\n",
        "new_sentence_delete.head()"
      ],
      "execution_count": 61,
      "outputs": [
        {
          "output_type": "execute_result",
          "data": {
            "text/html": [
              "<div>\n",
              "<style scoped>\n",
              "    .dataframe tbody tr th:only-of-type {\n",
              "        vertical-align: middle;\n",
              "    }\n",
              "\n",
              "    .dataframe tbody tr th {\n",
              "        vertical-align: top;\n",
              "    }\n",
              "\n",
              "    .dataframe thead th {\n",
              "        text-align: right;\n",
              "    }\n",
              "</style>\n",
              "<table border=\"1\" class=\"dataframe\">\n",
              "  <thead>\n",
              "    <tr style=\"text-align: right;\">\n",
              "      <th></th>\n",
              "      <th>sentence</th>\n",
              "      <th>sentiment</th>\n",
              "    </tr>\n",
              "  </thead>\n",
              "  <tbody>\n",
              "    <tr>\n",
              "      <th>0</th>\n",
              "      <td>... a bad murder-on-campus yawner .</td>\n",
              "      <td>1.0</td>\n",
              "    </tr>\n",
              "    <tr>\n",
              "      <th>1</th>\n",
              "      <td>A decided lack of otaiy in its execution and a...</td>\n",
              "      <td>1.0</td>\n",
              "    </tr>\n",
              "    <tr>\n",
              "      <th>2</th>\n",
              "      <td>... the film 's considered approach to its sub...</td>\n",
              "      <td>1.0</td>\n",
              "    </tr>\n",
              "    <tr>\n",
              "      <th>3</th>\n",
              "      <td>A devastating indictment of nbid greed and mat...</td>\n",
              "      <td>1.0</td>\n",
              "    </tr>\n",
              "    <tr>\n",
              "      <th>4</th>\n",
              "      <td>All comedy is subversive , but this unrelentin...</td>\n",
              "      <td>1.0</td>\n",
              "    </tr>\n",
              "  </tbody>\n",
              "</table>\n",
              "</div>"
            ],
            "text/plain": [
              "                                            sentence  sentiment\n",
              "0                ... a bad murder-on-campus yawner .        1.0\n",
              "1  A decided lack of otaiy in its execution and a...        1.0\n",
              "2  ... the film 's considered approach to its sub...        1.0\n",
              "3  A devastating indictment of nbid greed and mat...        1.0\n",
              "4  All comedy is subversive , but this unrelentin...        1.0"
            ]
          },
          "metadata": {
            "tags": []
          },
          "execution_count": 61
        }
      ]
    },
    {
      "cell_type": "code",
      "metadata": {
        "colab": {
          "base_uri": "https://localhost:8080/"
        },
        "id": "ZCkOu06fktIr",
        "outputId": "ffa50d38-479f-454b-a64e-c566ddfbe2d0"
      },
      "source": [
        "train_data = pd.concat([train_data_1,new_sentence_delete]).reset_index().drop(columns=['index'])\n",
        "print(train_data.head())\n",
        "print(train_data.shape)\n",
        "print(train_data.sentiment.value_counts())"
      ],
      "execution_count": 65,
      "outputs": [
        {
          "output_type": "stream",
          "text": [
            "                                            sentence  sentiment\n",
            "0              ... a bland murder-on-campus yawner .        1.0\n",
            "1  ... the picture 's cleverness is ironically mu...        3.0\n",
            "2      classic cinema served up with heart and humor        5.0\n",
            "3              entertaining enough , but nothing new        2.0\n",
            "4        insightfully written , delicately performed        5.0\n",
            "(28560, 2)\n",
            "4.0    6855\n",
            "2.0    6292\n",
            "3.0    6244\n",
            "5.0    5047\n",
            "1.0    4122\n",
            "Name: sentiment, dtype: int64\n"
          ],
          "name": "stdout"
        }
      ]
    },
    {
      "cell_type": "code",
      "metadata": {
        "colab": {
          "base_uri": "https://localhost:8080/"
        },
        "id": "v2RqZ-tY7EGQ",
        "outputId": "9f56de27-a15c-4d4e-f0f3-088e2ffa1a59"
      },
      "source": [
        "# Import Library\n",
        "import random\n",
        "import torch, torchtext\n",
        "from torchtext import data \n",
        "\n",
        "# Manual Seed\n",
        "SEED = 43\n",
        "torch.manual_seed(SEED)"
      ],
      "execution_count": 66,
      "outputs": [
        {
          "output_type": "execute_result",
          "data": {
            "text/plain": [
              "<torch._C.Generator at 0x7f14e6802db0>"
            ]
          },
          "metadata": {
            "tags": []
          },
          "execution_count": 66
        }
      ]
    },
    {
      "cell_type": "code",
      "metadata": {
        "id": "dQccyyC97mWK"
      },
      "source": [
        "sentence = torchtext.legacy.data.Field(sequential = True, tokenize = 'spacy', batch_first =True, include_lengths=True)\n",
        "sentiments = torchtext.legacy.data.Field(tokenize ='spacy', is_target=True, batch_first =True, sequential =False)"
      ],
      "execution_count": 67,
      "outputs": []
    },
    {
      "cell_type": "code",
      "metadata": {
        "id": "XkUjjQXK8RZf"
      },
      "source": [
        "fields = [('sentence', sentence),('sentiments',sentiments)]"
      ],
      "execution_count": 68,
      "outputs": []
    },
    {
      "cell_type": "code",
      "metadata": {
        "id": "DUn_viES9Kc5"
      },
      "source": [
        "example = [torchtext.legacy.data.Example.fromlist([train_data.sentence[i],train_data.sentiment[i]], fields) for i in range(train_data.shape[0])] "
      ],
      "execution_count": 69,
      "outputs": []
    },
    {
      "cell_type": "code",
      "metadata": {
        "id": "PeOydW1cEQO4"
      },
      "source": [
        "trainDataset = torchtext.legacy.data.Dataset(example, fields)"
      ],
      "execution_count": 70,
      "outputs": []
    },
    {
      "cell_type": "code",
      "metadata": {
        "colab": {
          "base_uri": "https://localhost:8080/",
          "height": 204
        },
        "id": "ZztuxEYMEc9w",
        "outputId": "b8f56581-0d37-47c8-d7c9-c938cc911b44"
      },
      "source": [
        "valid_data = pd.read_csv('/content/dev.csv')\n",
        "valid_data.head()"
      ],
      "execution_count": 71,
      "outputs": [
        {
          "output_type": "execute_result",
          "data": {
            "text/html": [
              "<div>\n",
              "<style scoped>\n",
              "    .dataframe tbody tr th:only-of-type {\n",
              "        vertical-align: middle;\n",
              "    }\n",
              "\n",
              "    .dataframe tbody tr th {\n",
              "        vertical-align: top;\n",
              "    }\n",
              "\n",
              "    .dataframe thead th {\n",
              "        text-align: right;\n",
              "    }\n",
              "</style>\n",
              "<table border=\"1\" class=\"dataframe\">\n",
              "  <thead>\n",
              "    <tr style=\"text-align: right;\">\n",
              "      <th></th>\n",
              "      <th>sentence</th>\n",
              "      <th>sentiment</th>\n",
              "    </tr>\n",
              "  </thead>\n",
              "  <tbody>\n",
              "    <tr>\n",
              "      <th>0</th>\n",
              "      <td>... a hollow joke told by a cinematic gymnast ...</td>\n",
              "      <td>2.0</td>\n",
              "    </tr>\n",
              "    <tr>\n",
              "      <th>1</th>\n",
              "      <td>... Mafia , rap stars and hood rats butt their...</td>\n",
              "      <td>4.0</td>\n",
              "    </tr>\n",
              "    <tr>\n",
              "      <th>2</th>\n",
              "      <td>... a story we have n't seen on the big screen...</td>\n",
              "      <td>4.0</td>\n",
              "    </tr>\n",
              "    <tr>\n",
              "      <th>3</th>\n",
              "      <td>... an otherwise intense , twist-and-turn thri...</td>\n",
              "      <td>4.0</td>\n",
              "    </tr>\n",
              "    <tr>\n",
              "      <th>4</th>\n",
              "      <td>... takes the beauty of baseball and melds it ...</td>\n",
              "      <td>4.0</td>\n",
              "    </tr>\n",
              "  </tbody>\n",
              "</table>\n",
              "</div>"
            ],
            "text/plain": [
              "                                            sentence  sentiment\n",
              "0  ... a hollow joke told by a cinematic gymnast ...        2.0\n",
              "1  ... Mafia , rap stars and hood rats butt their...        4.0\n",
              "2  ... a story we have n't seen on the big screen...        4.0\n",
              "3  ... an otherwise intense , twist-and-turn thri...        4.0\n",
              "4  ... takes the beauty of baseball and melds it ...        4.0"
            ]
          },
          "metadata": {
            "tags": []
          },
          "execution_count": 71
        }
      ]
    },
    {
      "cell_type": "code",
      "metadata": {
        "colab": {
          "base_uri": "https://localhost:8080/"
        },
        "id": "dE35M2kTFEBM",
        "outputId": "0ed9829f-280a-4836-f7a2-d1edc5607686"
      },
      "source": [
        "valid_data.shape"
      ],
      "execution_count": 72,
      "outputs": [
        {
          "output_type": "execute_result",
          "data": {
            "text/plain": [
              "(1044, 2)"
            ]
          },
          "metadata": {
            "tags": []
          },
          "execution_count": 72
        }
      ]
    },
    {
      "cell_type": "code",
      "metadata": {
        "id": "CyUFHkUyFMyP"
      },
      "source": [
        "# valid_data['sentiment'] = valid_data['sentiment'].astype(str)\n"
      ],
      "execution_count": 73,
      "outputs": []
    },
    {
      "cell_type": "code",
      "metadata": {
        "colab": {
          "base_uri": "https://localhost:8080/"
        },
        "id": "NpTRU-0FFTLz",
        "outputId": "2b71476c-4313-4ab7-c6c4-0244065e5a83"
      },
      "source": [
        "valid_data.sentiment.value_counts()"
      ],
      "execution_count": 74,
      "outputs": [
        {
          "output_type": "execute_result",
          "data": {
            "text/plain": [
              "2.0    276\n",
              "4.0    259\n",
              "3.0    219\n",
              "5.0    158\n",
              "1.0    132\n",
              "Name: sentiment, dtype: int64"
            ]
          },
          "metadata": {
            "tags": []
          },
          "execution_count": 74
        }
      ]
    },
    {
      "cell_type": "code",
      "metadata": {
        "id": "gl32EtxiFXXp"
      },
      "source": [
        "example = [torchtext.legacy.data.Example.fromlist([valid_data.sentence[i],valid_data.sentiment[i]], fields) for i in range(valid_data.shape[0])] "
      ],
      "execution_count": 75,
      "outputs": []
    },
    {
      "cell_type": "code",
      "metadata": {
        "id": "IY7vJroKFsFB"
      },
      "source": [
        "validDataset = torchtext.legacy.data.Dataset(example, fields)"
      ],
      "execution_count": 76,
      "outputs": []
    },
    {
      "cell_type": "code",
      "metadata": {
        "colab": {
          "base_uri": "https://localhost:8080/"
        },
        "id": "qgK4Qo2-F1yA",
        "outputId": "9a704380-84c2-49a7-b98a-ad1cd31ed0f1"
      },
      "source": [
        "vars(trainDataset.examples[10])"
      ],
      "execution_count": 77,
      "outputs": [
        {
          "output_type": "execute_result",
          "data": {
            "text/plain": [
              "{'sentence': ['...',\n",
              "  'begins',\n",
              "  'on',\n",
              "  'a',\n",
              "  'high',\n",
              "  'note',\n",
              "  'and',\n",
              "  'sustains',\n",
              "  'it',\n",
              "  'beautifully',\n",
              "  '.'],\n",
              " 'sentiments': 4.0}"
            ]
          },
          "metadata": {
            "tags": []
          },
          "execution_count": 77
        }
      ]
    },
    {
      "cell_type": "code",
      "metadata": {
        "id": "A15FtRYpHbGA"
      },
      "source": [
        "sentence.build_vocab(trainDataset)\n",
        "sentiments.build_vocab(trainDataset)"
      ],
      "execution_count": 78,
      "outputs": []
    },
    {
      "cell_type": "code",
      "metadata": {
        "colab": {
          "base_uri": "https://localhost:8080/"
        },
        "id": "K-kW8cFGIVs4",
        "outputId": "640d29d0-808d-4bd7-ef22-38d629d8c289"
      },
      "source": [
        "print('Size of input vocab : ', len(sentence.vocab))\n",
        "print('Size of label vocab : ', len(sentiments.vocab))\n",
        "print('Top 10 words appreared repeatedly :', list(sentence.vocab.freqs.most_common(10)))\n",
        "print('Labels : ', sentiments.vocab.stoi)"
      ],
      "execution_count": 79,
      "outputs": [
        {
          "output_type": "stream",
          "text": [
            "Size of input vocab :  20642\n",
            "Size of label vocab :  6\n",
            "Top 10 words appreared repeatedly : [('.', 26872), (',', 23632), ('the', 19655), ('a', 14662), ('of', 14497), ('and', 14409), ('to', 9879), ('-', 8952), ('is', 8373), (\"'s\", 8157)]\n",
            "Labels :  defaultdict(<bound method Vocab._default_unk_index of <torchtext.vocab.Vocab object at 0x7f148868f650>>, {'<unk>': 0, 4.0: 1, 2.0: 2, 3.0: 3, 5.0: 4, 1.0: 5})\n"
          ],
          "name": "stdout"
        }
      ]
    },
    {
      "cell_type": "code",
      "metadata": {
        "id": "5yRABmGUI29v"
      },
      "source": [
        "device = torch.device(\"cuda\" if torch.cuda.is_available() else \"cpu\")"
      ],
      "execution_count": 80,
      "outputs": []
    },
    {
      "cell_type": "code",
      "metadata": {
        "id": "zk38rlxOJAm7"
      },
      "source": [
        "train_iterator, valid_iterator = torchtext.legacy.data.BucketIterator.splits((trainDataset, validDataset), batch_size = 128, \n",
        "                                                            sort_key = lambda x: len(x.sentence),\n",
        "                                                            sort_within_batch=True, device = device)"
      ],
      "execution_count": 89,
      "outputs": []
    },
    {
      "cell_type": "code",
      "metadata": {
        "id": "gJFYU6cAJaN6"
      },
      "source": [
        "import os, pickle\n",
        "with open('tokenizer.pkl', 'wb') as tokens: \n",
        "    pickle.dump(sentence.vocab.stoi, tokens)"
      ],
      "execution_count": 90,
      "outputs": []
    },
    {
      "cell_type": "code",
      "metadata": {
        "id": "pj9q1XWcNwHy"
      },
      "source": [
        "# Define hyperparameters\n",
        "size_of_vocab = len(sentence.vocab)\n",
        "embedding_dim = 200\n",
        "num_hidden_nodes = 300\n",
        "num_output_nodes = 6\n",
        "num_layers = 5\n",
        "dropout = 0.7\n",
        "\n",
        "# Instantiate the model\n",
        "model = classifier(size_of_vocab, embedding_dim, num_hidden_nodes, num_output_nodes, num_layers, dropout = dropout)"
      ],
      "execution_count": 97,
      "outputs": []
    },
    {
      "cell_type": "code",
      "metadata": {
        "colab": {
          "base_uri": "https://localhost:8080/"
        },
        "id": "p9BEJoIgOG4W",
        "outputId": "55a81506-3df4-49e3-8d0d-3c737a06b18d"
      },
      "source": [
        "print(model)\n",
        "\n",
        "#No. of trianable parameters\n",
        "def count_parameters(model):\n",
        "    return sum(p.numel() for p in model.parameters() if p.requires_grad)\n",
        "    \n",
        "print(f'The model has {count_parameters(model):,} trainable parameters')"
      ],
      "execution_count": 98,
      "outputs": [
        {
          "output_type": "stream",
          "text": [
            "classifier(\n",
            "  (embedding): Embedding(20642, 200)\n",
            "  (encoder): LSTM(200, 300, num_layers=5, batch_first=True, dropout=0.7)\n",
            "  (fc): Linear(in_features=300, out_features=6, bias=True)\n",
            ")\n",
            "The model has 7,622,206 trainable parameters\n"
          ],
          "name": "stdout"
        }
      ]
    },
    {
      "cell_type": "code",
      "metadata": {
        "id": "1LUXLZIVOPKG"
      },
      "source": [
        "import torch.optim as optim\n",
        "\n",
        "# define optimizer and loss\n",
        "optimizer = optim.Adam(model.parameters(), lr=2e-4)\n",
        "criterion = nn.CrossEntropyLoss()\n",
        "\n",
        "# define metric\n",
        "def binary_accuracy(preds, y):\n",
        "    #round predictions to the closest integer\n",
        "    _, predictions = torch.max(preds, 1)\n",
        "    \n",
        "    correct = (predictions == y).float() \n",
        "    acc = correct.sum() / len(correct)\n",
        "    return acc\n",
        "    \n",
        "# push to cuda if available\n",
        "model = model.to(device)\n",
        "criterion = criterion.to(device)"
      ],
      "execution_count": 99,
      "outputs": []
    },
    {
      "cell_type": "code",
      "metadata": {
        "id": "RtV0AFllOc1S"
      },
      "source": [
        "def train(model, iterator, optimizer, criterion):\n",
        "    \n",
        "    # initialize every epoch \n",
        "    epoch_loss = 0\n",
        "    epoch_acc = 0\n",
        "    \n",
        "    # set the model in training phase\n",
        "    model.train()  \n",
        "    \n",
        "    for batch in iterator:\n",
        "        \n",
        "        # resets the gradients after every batch\n",
        "        optimizer.zero_grad()   \n",
        "        # retrieve text and no. of words\n",
        "        sentence, sentence_lengths = batch.sentence  \n",
        "        # convert to 1D tensor\n",
        "        predictions = model(sentence, sentence_lengths).squeeze()  \n",
        "        # compute the loss\n",
        "        loss = criterion(predictions, batch.sentiments)        \n",
        "        # compute the binary accuracy\n",
        "        acc = binary_accuracy(predictions, batch.sentiments)   \n",
        "        # backpropage the loss and compute the gradients\n",
        "        loss.backward()       \n",
        "        # update the weights\n",
        "        optimizer.step()      \n",
        "        # loss and accuracy\n",
        "        epoch_loss += loss.item()  \n",
        "        epoch_acc += acc.item()    \n",
        "        \n",
        "    return epoch_loss / len(iterator), epoch_acc / len(iterator)"
      ],
      "execution_count": 100,
      "outputs": []
    },
    {
      "cell_type": "code",
      "metadata": {
        "id": "BuQPSX3LPEBA"
      },
      "source": [
        "def evaluate(model, iterator, criterion):\n",
        "    \n",
        "    # initialize every epoch\n",
        "    epoch_loss = 0\n",
        "    epoch_acc = 0\n",
        "\n",
        "    # deactivating dropout layers\n",
        "    model.eval()\n",
        "    \n",
        "    # deactivates autograd\n",
        "    with torch.no_grad():\n",
        "    \n",
        "        for batch in iterator:\n",
        "        \n",
        "            # retrieve text and no. of words\n",
        "            sentence, sentence_lengths = batch.sentence\n",
        "            \n",
        "            # convert to 1d tensor\n",
        "            predictions = model(sentence, sentence_lengths).squeeze()\n",
        "            \n",
        "            # compute loss and accuracy\n",
        "            loss = criterion(predictions, batch.sentiments)\n",
        "            acc = binary_accuracy(predictions, batch.sentiments)\n",
        "            \n",
        "            # keep track of loss and accuracy\n",
        "            epoch_loss += loss.item()\n",
        "            epoch_acc += acc.item()\n",
        "        \n",
        "    return epoch_loss / len(iterator), epoch_acc / len(iterator)"
      ],
      "execution_count": 101,
      "outputs": []
    },
    {
      "cell_type": "code",
      "metadata": {
        "colab": {
          "base_uri": "https://localhost:8080/"
        },
        "id": "kzKZXmUdTDo-",
        "outputId": "6ac376f6-9b99-4b84-bc10-9d03b0dc30db"
      },
      "source": [
        "N_EPOCHS = 10\n",
        "best_valid_loss = float('inf')\n",
        "\n",
        "for epoch in range(N_EPOCHS):\n",
        "     \n",
        "    # train the model\n",
        "    train_loss, train_acc = train(model, train_iterator, optimizer, criterion)\n",
        "    \n",
        "    # evaluate the model\n",
        "    valid_loss, valid_acc = evaluate(model, valid_iterator, criterion)\n",
        "    \n",
        "    # save the best model\n",
        "    if valid_loss < best_valid_loss:\n",
        "        best_valid_loss = valid_loss\n",
        "        torch.save(model.state_dict(), 'saved_weights.pt')\n",
        "    \n",
        "    print(f'\\tTrain Loss: {train_loss:.3f} | Train Acc: {train_acc*100:.2f}%')\n",
        "    print(f'\\t Val. Loss: {valid_loss:.3f} |  Val. Acc: {valid_acc*100:.2f}% \\n')"
      ],
      "execution_count": 102,
      "outputs": [
        {
          "output_type": "stream",
          "text": [
            "\tTrain Loss: 1.744 | Train Acc: 25.83%\n",
            "\t Val. Loss: 1.716 |  Val. Acc: 30.76% \n",
            "\n",
            "\tTrain Loss: 1.686 | Train Acc: 34.55%\n",
            "\t Val. Loss: 1.691 |  Val. Acc: 32.53% \n",
            "\n",
            "\tTrain Loss: 1.618 | Train Acc: 42.59%\n",
            "\t Val. Loss: 1.687 |  Val. Acc: 32.41% \n",
            "\n",
            "\tTrain Loss: 1.548 | Train Acc: 50.40%\n",
            "\t Val. Loss: 1.710 |  Val. Acc: 29.48% \n",
            "\n",
            "\tTrain Loss: 1.487 | Train Acc: 56.61%\n",
            "\t Val. Loss: 1.706 |  Val. Acc: 31.42% \n",
            "\n",
            "\tTrain Loss: 1.440 | Train Acc: 61.38%\n",
            "\t Val. Loss: 1.704 |  Val. Acc: 31.56% \n",
            "\n",
            "\tTrain Loss: 1.397 | Train Acc: 65.41%\n",
            "\t Val. Loss: 1.716 |  Val. Acc: 30.92% \n",
            "\n",
            "\tTrain Loss: 1.372 | Train Acc: 67.71%\n",
            "\t Val. Loss: 1.707 |  Val. Acc: 31.42% \n",
            "\n",
            "\tTrain Loss: 1.351 | Train Acc: 69.83%\n",
            "\t Val. Loss: 1.709 |  Val. Acc: 32.03% \n",
            "\n",
            "\tTrain Loss: 1.320 | Train Acc: 73.53%\n",
            "\t Val. Loss: 1.714 |  Val. Acc: 31.82% \n",
            "\n"
          ],
          "name": "stdout"
        }
      ]
    },
    {
      "cell_type": "code",
      "metadata": {
        "id": "5_5TRZ9lBFmX"
      },
      "source": [
        "#load weights and tokenizer\n",
        "\n",
        "path='./saved_weights.pt'\n",
        "model.load_state_dict(torch.load(path));\n",
        "model.eval();\n",
        "tokenizer_file = open('./tokenizer.pkl', 'rb')\n",
        "tokenizer = pickle.load(tokenizer_file)\n",
        "\n",
        "#inference \n",
        "\n",
        "import spacy\n",
        "nlp = spacy.load('en')\n",
        "\n",
        "def classify_sentence(sentence):\n",
        "    \n",
        "    categories = {0: \"very negative\", 1:\"negative\", 2:\"neutral\", 3:\"positive\", 4:\"very positive\"}\n",
        "    \n",
        "    # tokenize the tweet \n",
        "    tokenized = [tok.text for tok in nlp.tokenizer(sentence)] \n",
        "    # convert to integer sequence using predefined tokenizer dictionary\n",
        "    indexed = [tokenizer[t] for t in tokenized]        \n",
        "    # compute no. of words        \n",
        "    length = [len(indexed)]\n",
        "    # convert to tensor                                    \n",
        "    tensor = torch.LongTensor(indexed).to(device)   \n",
        "    # reshape in form of batch, no. of words           \n",
        "    tensor = tensor.unsqueeze(1).T  \n",
        "    # convert to tensor                          \n",
        "    length_tensor = torch.LongTensor(length)\n",
        "    # Get the model prediction                  \n",
        "    prediction = model(tensor, length_tensor)\n",
        "\n",
        "    _, pred = torch.max(prediction, 1) \n",
        "    \n",
        "    return categories[pred.item()]"
      ],
      "execution_count": 103,
      "outputs": []
    },
    {
      "cell_type": "code",
      "metadata": {
        "colab": {
          "base_uri": "https://localhost:8080/",
          "height": 35
        },
        "id": "WWrAD3eIDq2O",
        "outputId": "c813bb4e-3eff-4d3b-f357-ce552e4fcba6"
      },
      "source": [
        "classify_sentence(\"The notion that bombing buildings is the funniest thing in the world goes entirely unexamined in this startlingly unfunny comedy .\")"
      ],
      "execution_count": 104,
      "outputs": [
        {
          "output_type": "execute_result",
          "data": {
            "application/vnd.google.colaboratory.intrinsic+json": {
              "type": "string"
            },
            "text/plain": [
              "'negative'"
            ]
          },
          "metadata": {
            "tags": []
          },
          "execution_count": 104
        }
      ]
    },
    {
      "cell_type": "code",
      "metadata": {
        "colab": {
          "base_uri": "https://localhost:8080/",
          "height": 35
        },
        "id": "6ubtsNwIEtCr",
        "outputId": "739fcb15-a434-40a2-d14e-997495e0b212"
      },
      "source": [
        "classify_sentence(\"Visually rather stunning , but ultimately a handsome-looking bore , the true creativity would have been to hide Treasure Planet entirely and completely reimagine it .\")"
      ],
      "execution_count": 105,
      "outputs": [
        {
          "output_type": "execute_result",
          "data": {
            "application/vnd.google.colaboratory.intrinsic+json": {
              "type": "string"
            },
            "text/plain": [
              "'very positive'"
            ]
          },
          "metadata": {
            "tags": []
          },
          "execution_count": 105
        }
      ]
    },
    {
      "cell_type": "code",
      "metadata": {
        "colab": {
          "base_uri": "https://localhost:8080/",
          "height": 35
        },
        "id": "XE6Tx9UhFEZf",
        "outputId": "19e6cc58-2ac4-404e-b95c-0f24e52512e2"
      },
      "source": [
        "classify_sentence(\"Miller is playing so free with emotions , and the fact that children are hostages to fortune , that he makes the audience hostage to his swaggering affectation of seriousness .\")"
      ],
      "execution_count": 106,
      "outputs": [
        {
          "output_type": "execute_result",
          "data": {
            "application/vnd.google.colaboratory.intrinsic+json": {
              "type": "string"
            },
            "text/plain": [
              "'neutral'"
            ]
          },
          "metadata": {
            "tags": []
          },
          "execution_count": 106
        }
      ]
    },
    {
      "cell_type": "code",
      "metadata": {
        "colab": {
          "base_uri": "https://localhost:8080/",
          "height": 35
        },
        "id": "tOHieQhRFbEN",
        "outputId": "5f9d26b6-a5a7-45e9-ddc1-345154184c41"
      },
      "source": [
        "classify_sentence(\"Schaeffer has to find some hook on which to hang his persistently useless movies , and it might as well be the resuscitation of the middle-aged character .\")"
      ],
      "execution_count": 107,
      "outputs": [
        {
          "output_type": "execute_result",
          "data": {
            "application/vnd.google.colaboratory.intrinsic+json": {
              "type": "string"
            },
            "text/plain": [
              "'neutral'"
            ]
          },
          "metadata": {
            "tags": []
          },
          "execution_count": 107
        }
      ]
    },
    {
      "cell_type": "code",
      "metadata": {
        "colab": {
          "base_uri": "https://localhost:8080/",
          "height": 35
        },
        "id": "G5_rmFsNsGaF",
        "outputId": "7fdb643e-56a2-4675-f600-3eee71cb24b2"
      },
      "source": [
        "classify_sentence(\"There 's just no currency in deriding James Bond for being a clichÃ©d , doddering , misogynistic boy 's club .\")"
      ],
      "execution_count": 108,
      "outputs": [
        {
          "output_type": "execute_result",
          "data": {
            "application/vnd.google.colaboratory.intrinsic+json": {
              "type": "string"
            },
            "text/plain": [
              "'positive'"
            ]
          },
          "metadata": {
            "tags": []
          },
          "execution_count": 108
        }
      ]
    },
    {
      "cell_type": "code",
      "metadata": {
        "colab": {
          "base_uri": "https://localhost:8080/",
          "height": 35
        },
        "id": "X_GWWBOzsm8J",
        "outputId": "618490be-9d80-4bf5-c5c8-36281a347dce"
      },
      "source": [
        "classify_sentence(\"When the film ended , I felt tired and drained and wanted to lie on my own deathbed for a while .\")"
      ],
      "execution_count": 109,
      "outputs": [
        {
          "output_type": "execute_result",
          "data": {
            "application/vnd.google.colaboratory.intrinsic+json": {
              "type": "string"
            },
            "text/plain": [
              "'very positive'"
            ]
          },
          "metadata": {
            "tags": []
          },
          "execution_count": 109
        }
      ]
    },
    {
      "cell_type": "code",
      "metadata": {
        "colab": {
          "base_uri": "https://localhost:8080/",
          "height": 35
        },
        "id": "nxTxFPEOsw40",
        "outputId": "44cc83d1-4ccf-4795-a82b-3951036ea9f3"
      },
      "source": [
        "classify_sentence(\"Full of witless jokes , dealing in broad stereotypes and outrageously unbelievable scenarios , and saddled with a general air of misogyny\")"
      ],
      "execution_count": 110,
      "outputs": [
        {
          "output_type": "execute_result",
          "data": {
            "application/vnd.google.colaboratory.intrinsic+json": {
              "type": "string"
            },
            "text/plain": [
              "'neutral'"
            ]
          },
          "metadata": {
            "tags": []
          },
          "execution_count": 110
        }
      ]
    },
    {
      "cell_type": "code",
      "metadata": {
        "colab": {
          "base_uri": "https://localhost:8080/",
          "height": 35
        },
        "id": "5v2dzGp1s9vZ",
        "outputId": "d10057a2-00d7-434d-8941-995ddd71365c"
      },
      "source": [
        "classify_sentence(\"The film 's hackneyed message is not helped by the thin characterizations , nonexistent plot and pretentious visual style .\")"
      ],
      "execution_count": 111,
      "outputs": [
        {
          "output_type": "execute_result",
          "data": {
            "application/vnd.google.colaboratory.intrinsic+json": {
              "type": "string"
            },
            "text/plain": [
              "'neutral'"
            ]
          },
          "metadata": {
            "tags": []
          },
          "execution_count": 111
        }
      ]
    },
    {
      "cell_type": "code",
      "metadata": {
        "colab": {
          "base_uri": "https://localhost:8080/",
          "height": 35
        },
        "id": "tkCiKlKDtJs3",
        "outputId": "1ea8f1dc-5c7e-4029-b524-650abb9f3be2"
      },
      "source": [
        "classify_sentence(\"Detox is ultimately a pointless endeavor .\")"
      ],
      "execution_count": 112,
      "outputs": [
        {
          "output_type": "execute_result",
          "data": {
            "application/vnd.google.colaboratory.intrinsic+json": {
              "type": "string"
            },
            "text/plain": [
              "'neutral'"
            ]
          },
          "metadata": {
            "tags": []
          },
          "execution_count": 112
        }
      ]
    },
    {
      "cell_type": "code",
      "metadata": {
        "colab": {
          "base_uri": "https://localhost:8080/",
          "height": 35
        },
        "id": "NThZUW5FtUkM",
        "outputId": "f5395175-095b-4035-8302-13f43b273f3f"
      },
      "source": [
        "classify_sentence(\"Too much of the humor falls flat .\")"
      ],
      "execution_count": 113,
      "outputs": [
        {
          "output_type": "execute_result",
          "data": {
            "application/vnd.google.colaboratory.intrinsic+json": {
              "type": "string"
            },
            "text/plain": [
              "'neutral'"
            ]
          },
          "metadata": {
            "tags": []
          },
          "execution_count": 113
        }
      ]
    },
    {
      "cell_type": "code",
      "metadata": {
        "colab": {
          "base_uri": "https://localhost:8080/",
          "height": 35
        },
        "id": "NCRLImIatate",
        "outputId": "048211aa-b668-4be8-85c4-e41ab7c74fcd"
      },
      "source": [
        "classify_sentence(\"No way I can believe this load of junk .\")"
      ],
      "execution_count": 114,
      "outputs": [
        {
          "output_type": "execute_result",
          "data": {
            "application/vnd.google.colaboratory.intrinsic+json": {
              "type": "string"
            },
            "text/plain": [
              "'negative'"
            ]
          },
          "metadata": {
            "tags": []
          },
          "execution_count": 114
        }
      ]
    }
  ]
}